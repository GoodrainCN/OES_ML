{
 "cells": [
  {
   "cell_type": "markdown",
   "metadata": {
    "collapsed": false
   },
   "source": [
    "###  THE TITANIC AND MOVIE DATASETS"
   ]
  },
  {
   "cell_type": "code",
   "execution_count": 157,
   "metadata": {
    "collapsed": false
   },
   "outputs": [],
   "source": [
    "from itertools import product\n",
    "\n",
    "import pandas as pd\n",
    "import numpy as np\n",
    "import matplotlib.pyplot as plt\n",
    "%matplotlib inline\n",
    "from patsy import dmatrices\n",
    "from sklearn import linear_model as lm\n",
    "from sklearn.preprocessing import StandardScaler\n",
    "from sklearn.linear_model import LogisticRegression\n",
    "from sklearn.datasets import load_iris\n",
    "from sklearn.model_selection import train_test_split\n",
    "from sklearn.metrics import confusion_matrix, classification_report\n",
    "from sklearn.metrics import roc_curve, roc_auc_score, average_precision_score\n",
    "from sklearn.metrics import precision_recall_curve\n",
    "from sklearn.neighbors import KNeighborsClassifier\n",
    "from sklearn.model_selection import GridSearchCV\n",
    "from sklearn.model_selection import cross_val_score\n",
    "from sklearn import naive_bayes\n",
    "from sklearn.ensemble import GradientBoostingClassifier\n",
    "import warnings\n",
    "warnings.filterwarnings(\"ignore\")"
   ]
  },
  {
   "cell_type": "code",
   "execution_count": 116,
   "metadata": {},
   "outputs": [],
   "source": [
    "df = pd.read_csv('data/titanic.csv')\n"
   ]
  },
  {
   "cell_type": "markdown",
   "metadata": {
    "collapsed": false
   },
   "source": [
    "### Titanic\n",
    "\n",
    "1.Read in the titanic data set. Use a for loop to find the best nearest neighbor parameter. "
   ]
  },
  {
   "cell_type": "code",
   "execution_count": 117,
   "metadata": {
    "collapsed": false
   },
   "outputs": [
    {
     "data": {
      "text/html": [
       "<div>\n",
       "<style scoped>\n",
       "    .dataframe tbody tr th:only-of-type {\n",
       "        vertical-align: middle;\n",
       "    }\n",
       "\n",
       "    .dataframe tbody tr th {\n",
       "        vertical-align: top;\n",
       "    }\n",
       "\n",
       "    .dataframe thead th {\n",
       "        text-align: right;\n",
       "    }\n",
       "</style>\n",
       "<table border=\"1\" class=\"dataframe\">\n",
       "  <thead>\n",
       "    <tr style=\"text-align: right;\">\n",
       "      <th></th>\n",
       "      <th>accuracy</th>\n",
       "    </tr>\n",
       "    <tr>\n",
       "      <th>k</th>\n",
       "      <th></th>\n",
       "    </tr>\n",
       "  </thead>\n",
       "  <tbody>\n",
       "    <tr>\n",
       "      <th>16</th>\n",
       "      <td>0.822544</td>\n",
       "    </tr>\n",
       "  </tbody>\n",
       "</table>\n",
       "</div>"
      ],
      "text/plain": [
       "    accuracy\n",
       "k           \n",
       "16  0.822544"
      ]
     },
     "execution_count": 117,
     "metadata": {},
     "output_type": "execute_result"
    }
   ],
   "source": [
    "# insert\n",
    "df = pd.read_csv('data/titanic.csv')\n",
    "sex = pd.get_dummies(df['Sex'])\n",
    "df = df.join(sex)\n",
    "# df = df.drop(columns=['Sex'])\n",
    "X = df.drop(columns = ['Survived','Name','Sex'])\n",
    "y = df['Survived']\n",
    "\n",
    "X_train, X_test, y_train, y_test = train_test_split(X, y, \n",
    "                                                    test_size=0.25, \n",
    "                                                    random_state=0)\n",
    "sc_X = StandardScaler()\n",
    "X_train = sc_X.fit_transform(X_train)\n",
    "X_test = sc_X.transform(X_test)\n",
    "k_scores = []\n",
    "\n",
    "for k in range(1, 20):\n",
    "\n",
    "    knn = KNeighborsClassifier(n_neighbors=k)\n",
    "    scores = cross_val_score(knn, X_train, y_train, cv=3, scoring='accuracy')\n",
    "    \n",
    "    k_scores.append((k, scores.mean()))\n",
    "    \n",
    "k_scores = pd.DataFrame(k_scores, columns=['k', 'accuracy']).set_index('k')\n",
    "k_max = k_scores[k_scores.accuracy==max(k_scores.accuracy)]\n",
    "k_max"
   ]
  },
  {
   "cell_type": "code",
   "execution_count": 118,
   "metadata": {},
   "outputs": [
    {
     "data": {
      "image/png": "[encoded data removed]",
      "text/plain": [
       "<Figure size 432x288 with 1 Axes>"
      ]
     },
     "metadata": {
      "needs_background": "light"
     },
     "output_type": "display_data"
    }
   ],
   "source": [
    "ax = k_scores.plot()\n",
    "ax.set(xlabel='Number of Neighbors', ylabel='Accuracy');"
   ]
  },
  {
   "cell_type": "markdown",
   "metadata": {
    "collapsed": false
   },
   "source": [
    "2.Now use GridSearchCV to find the optimal parameter."
   ]
  },
  {
   "cell_type": "code",
   "execution_count": 119,
   "metadata": {
    "collapsed": false
   },
   "outputs": [
    {
     "name": "stdout",
     "output_type": "stream",
     "text": [
      "{'n_neighbors': 16} KNeighborsClassifier(n_neighbors=16)\n"
     ]
    }
   ],
   "source": [
    "# insert 2\n",
    "from sklearn.model_selection import GridSearchCV\n",
    "\n",
    "# create a parameter grid: map the parameter names to the values that should be searched\n",
    "# Grid search uses all the parameters\n",
    "\n",
    "param_grid = {'n_neighbors': range(1, 20)}\n",
    "\n",
    "model = GridSearchCV(KNeighborsClassifier(), \n",
    "                    param_grid, \n",
    "                    cv=3, \n",
    "                    scoring='accuracy')\n",
    "\n",
    "model = model.fit(X_train, y_train)\n",
    "print(model.best_params_, model.best_estimator_)"
   ]
  },
  {
   "cell_type": "markdown",
   "metadata": {
    "collapsed": false
   },
   "source": [
    "3.Print a classification report. Describe in words what the recall and precision represent."
   ]
  },
  {
   "cell_type": "code",
   "execution_count": 120,
   "metadata": {
    "collapsed": false
   },
   "outputs": [
    {
     "name": "stdout",
     "output_type": "stream",
     "text": [
      "              precision    recall  f1-score   support\n",
      "\n",
      "           0       0.83      0.87      0.85       142\n",
      "           1       0.74      0.69      0.71        80\n",
      "\n",
      "    accuracy                           0.80       222\n",
      "   macro avg       0.79      0.78      0.78       222\n",
      "weighted avg       0.80      0.80      0.80       222\n",
      "\n"
     ]
    }
   ],
   "source": [
    "# insert 3\n",
    "print(classification_report(y_test, model.predict(X_test)))"
   ]
  },
  {
   "cell_type": "markdown",
   "metadata": {},
   "source": [
    "### Interpretations\n",
    "- With a precision score of 83%, out of all cases predicted as not survived, we were correct 83% of the time. With a recall score of 87%, out of all not survived passengers, we found 87% of them.\n",
    "- With a precision score of 74%, out of all cases predicted as survived, we were correct 74% of the time. With a recall score of 69%, out of all survived passengers, we found 69% of them."
   ]
  },
  {
   "cell_type": "markdown",
   "metadata": {
    "collapsed": false
   },
   "source": [
    "4.Print a confusion matrix. How many people got classified incorrectly? Make sure you understand which category is which."
   ]
  },
  {
   "cell_type": "code",
   "execution_count": 127,
   "metadata": {
    "collapsed": false
   },
   "outputs": [
    {
     "data": {
      "text/plain": [
       "array([[123,  19],\n",
       "       [ 25,  55]])"
      ]
     },
     "execution_count": 127,
     "metadata": {},
     "output_type": "execute_result"
    }
   ],
   "source": [
    "# insert 4\n",
    "y_test = np.array(y_test).reshape(-1,1)\n",
    "confusion_matrix(y_test, model.predict(X_test))"
   ]
  },
  {
   "cell_type": "markdown",
   "metadata": {},
   "source": [
    "### Confusion Matrix\n",
    "    There is 19 + 25 = 44 people got classified incorrectly. 19 is predicted to be survived but actually dead, and 25 predicted to be dead actually survived."
   ]
  },
  {
   "cell_type": "markdown",
   "metadata": {
    "collapsed": false
   },
   "source": [
    "5.Print the accuracy and ROC-AUC for each of the 4 models: Naive Bayes, Logistic Regresion, Gradient Boosting, and K Nearest Neighbors."
   ]
  },
  {
   "cell_type": "code",
   "execution_count": 136,
   "metadata": {
    "collapsed": false
   },
   "outputs": [
    {
     "name": "stdout",
     "output_type": "stream",
     "text": [
      "Logistic Model accuracy: 0.8018018018018018\n",
      "ROC-AUC: 0.8485035211267606\n",
      "\n",
      "Gradient Boosting Model accuracy: 0.8153153153153153\n",
      "ROC-AUC: 0.8537411971830986\n",
      "\n",
      "NAVIE Bayes Model accuracy: 0.7792792792792793\n",
      "ROC-AUC: 0.8537411971830986\n",
      "\n",
      "KNN Model accuracy: 0.8018018018018018\n",
      "ROC-AUC: 0.8566461267605634\n",
      "\n"
     ]
    }
   ],
   "source": [
    "# insert 5\n",
    "model0 = LogisticRegression(multi_class = \"auto\", solver = 'lbfgs', max_iter=10000)\n",
    "model0.fit(X_train, y_train)\n",
    "\n",
    "# accuracy for test & train:    \n",
    "y_proba_LR = model0.predict_proba(X_test)[:, 1]\n",
    "\n",
    "# calculate AUC\n",
    "print('Logistic Model accuracy:', model0.score(X_test,y_test))\n",
    "print('ROC-AUC:', roc_auc_score(y_test, y_proba_LR))\n",
    "print()\n",
    "\n",
    "model1 = GradientBoostingClassifier()\n",
    "model1.fit(X_train, y_train)\n",
    "\n",
    "# accuracy for test & train:    \n",
    "y_proba_GB = model1.predict_proba(X_test)[:, 1]\n",
    "\n",
    "#calculate AUC\n",
    "print('Gradient Boosting Model accuracy:', model1.score(X_test,y_test))\n",
    "print('ROC-AUC:', roc_auc_score(y_test, y_proba_GB))\n",
    "print()\n",
    "\n",
    "model2 = naive_bayes.GaussianNB()\n",
    "model2.fit(X_train, y_train)\n",
    "   \n",
    "y_proba_NB = model2.predict_proba(X_test)[:, 1]\n",
    "#calculate AUC\n",
    "print('NAVIE Bayes Model accuracy:', model2.score(X_test,y_test))\n",
    "print('ROC-AUC:', roc_auc_score(y_test, y_proba_GB))\n",
    "print()\n",
    "\n",
    "model3 = GridSearchCV(KNeighborsClassifier(n_neighbors=16), \n",
    "                    param_grid, \n",
    "                    cv=3, \n",
    "                    scoring='accuracy')\n",
    "model3.fit(X_train, y_train)\n",
    "y_proba_KNN = model3.predict_proba(X_test)[:, 1]\n",
    "print('KNN Model accuracy:', model3.score(X_test,y_test))\n",
    "print('ROC-AUC:', roc_auc_score(y_test, y_proba_KNN))\n",
    "print()"
   ]
  },
  {
   "cell_type": "markdown",
   "metadata": {
    "collapsed": false
   },
   "source": [
    "6.Plot ROC curves comparing the four methods."
   ]
  },
  {
   "cell_type": "code",
   "execution_count": 137,
   "metadata": {
    "collapsed": false
   },
   "outputs": [
    {
     "data": {
      "image/png": "[encoded data removed]",
      "text/plain": [
       "<Figure size 432x288 with 1 Axes>"
      ]
     },
     "metadata": {
      "needs_background": "light"
     },
     "output_type": "display_data"
    }
   ],
   "source": [
    "# insert 6\n",
    "def plot_roc(ytrue, yproba, model, title='some ROC curve'):\n",
    "    auc = roc_auc_score(ytrue, yproba)\n",
    "    fpr, tpr, thr = roc_curve(ytrue, yproba)\n",
    "    plt.plot([0, 1], [0, 1], color='k', linestyle='--', linewidth=.4)\n",
    "    plt.plot(fpr, tpr, label='{} auc={:.2f}%'.format(model, auc*100))\n",
    "    plt.axis('equal')\n",
    "    plt.xlim([-.02, 1.02])\n",
    "    plt.ylim([-.02, 1.02])\n",
    "    plt.ylabel('tpr')\n",
    "    plt.xlabel('fpr')\n",
    "    plt.title(title)\n",
    "    plt.legend(loc='best')\n",
    "    plt.grid(True)\n",
    "    \n",
    "plot_roc(y_test, y_proba_NB, \"Naive Bayes\")\n",
    "plot_roc(y_test, y_proba_GB, \"Gradient Boosting\")\n",
    "plot_roc(y_test, y_proba_LR, \"Log Regression\")\n",
    "plot_roc(y_test, y_proba_KNN, \"KNN\")"
   ]
  },
  {
   "cell_type": "markdown",
   "metadata": {
    "collapsed": false
   },
   "source": [
    "### MOVIE\n",
    "\n",
    "7.Read in the \"2013_movies.csv\" movie dataset below. Drop the Title, Director, and ReleaseDate columns. Then use a logistic regression model to predic the rating for the movie. What is the test accuracy?"
   ]
  },
  {
   "cell_type": "code",
   "execution_count": 149,
   "metadata": {
    "collapsed": false
   },
   "outputs": [
    {
     "name": "stdout",
     "output_type": "stream",
     "text": [
      "accuracy: 0.4583333333333333\n"
     ]
    }
   ],
   "source": [
    "# insert 7\n",
    "df = pd.read_csv(\n",
    "    'data/2013_movies.csv'\n",
    ")\n",
    "# df = df.drop(columns=['Title', 'Director', 'ReleaseDate'])\n",
    "X = df.drop(columns = ['Title', 'Director', 'ReleaseDate','Rating'])\n",
    "y = df['Rating']\n",
    "X_train, X_test, y_train, y_test = train_test_split(X, y, test_size=0.25, random_state=1234)\n",
    "\n",
    "model = LogisticRegression(multi_class = \"auto\", solver = 'lbfgs', max_iter=10000)\n",
    "model.fit(X_train, y_train)\n",
    "\n",
    "# accuracy for test & train:    \n",
    "y_proba_LR = model.predict_proba(X_test)[:, 1]\n",
    "\n",
    "# calculate AUC\n",
    "print('accuracy:', model.score(X_test,y_test))"
   ]
  },
  {
   "cell_type": "code",
   "execution_count": 156,
   "metadata": {},
   "outputs": [
    {
     "data": {
      "text/plain": [
       "array(['G', 'PG-13', 'PG-13', 'R', 'PG-13', 'PG-13', 'PG-13', 'PG-13',\n",
       "       'R', 'PG-13', 'PG-13', 'PG-13', 'PG-13', 'PG-13', 'PG-13', 'PG-13',\n",
       "       'PG-13', 'PG-13', 'PG-13', 'PG-13', 'PG-13', 'PG-13', 'PG-13',\n",
       "       'PG-13'], dtype=object)"
      ]
     },
     "execution_count": 156,
     "metadata": {},
     "output_type": "execute_result"
    }
   ],
   "source": [
    "model.predict(X_test)"
   ]
  },
  {
   "cell_type": "markdown",
   "metadata": {
    "collapsed": false
   },
   "source": [
    "8.Print the classes and the confusion matrix for the classes. What were most movies predicted to be?"
   ]
  },
  {
   "cell_type": "code",
   "execution_count": 159,
   "metadata": {
    "collapsed": false
   },
   "outputs": [
    {
     "name": "stdout",
     "output_type": "stream",
     "text": [
      "              precision    recall  f1-score   support\n",
      "\n",
      "           G       0.00      0.00      0.00         0\n",
      "          PG       0.00      0.00      0.00         4\n",
      "       PG-13       0.48      0.83      0.61        12\n",
      "           R       0.50      0.12      0.20         8\n",
      "\n",
      "    accuracy                           0.46        24\n",
      "   macro avg       0.24      0.24      0.20        24\n",
      "weighted avg       0.40      0.46      0.37        24\n",
      "\n"
     ]
    },
    {
     "data": {
      "text/plain": [
       "array([[ 0,  0,  0,  0],\n",
       "       [ 0,  0,  4,  0],\n",
       "       [ 1,  0, 10,  1],\n",
       "       [ 0,  0,  7,  1]])"
      ]
     },
     "execution_count": 159,
     "metadata": {},
     "output_type": "execute_result"
    }
   ],
   "source": [
    "# insert 8\n",
    "print(classification_report(y_test, model.predict(X_test)))\n",
    "confusion_matrix(y_test, model.predict(X_test))"
   ]
  },
  {
   "cell_type": "markdown",
   "metadata": {},
   "source": [
    "### MOST predicted movie: PG-13"
   ]
  },
  {
   "cell_type": "markdown",
   "metadata": {
    "collapsed": false
   },
   "source": [
    "9.Print the classification report. Any interesting findings?"
   ]
  },
  {
   "cell_type": "code",
   "execution_count": 160,
   "metadata": {
    "collapsed": false
   },
   "outputs": [
    {
     "name": "stdout",
     "output_type": "stream",
     "text": [
      "              precision    recall  f1-score   support\n",
      "\n",
      "           G       0.00      0.00      0.00         0\n",
      "          PG       0.00      0.00      0.00         4\n",
      "       PG-13       0.48      0.83      0.61        12\n",
      "           R       0.50      0.12      0.20         8\n",
      "\n",
      "    accuracy                           0.46        24\n",
      "   macro avg       0.24      0.24      0.20        24\n",
      "weighted avg       0.40      0.46      0.37        24\n",
      "\n"
     ]
    }
   ],
   "source": [
    "# insert 9\n",
    "print(classification_report(y_test, model.predict(X_test)))"
   ]
  },
  {
   "cell_type": "markdown",
   "metadata": {},
   "source": [
    "### Findings\n",
    "    The recall(True Postiive Rate) of PG-13 is very high."
   ]
  }
 ],
 "metadata": {
  "interpreter": {
   "hash": "fd480433b0168f0b96e5ec847e914a92fdec64b0a6a89ef8313bf2e63f32d212"
  },
  "kernelspec": {
   "display_name": "Python 3.9.7 ('pyc')",
   "language": "python",
   "name": "python3"
  },
  "language_info": {
   "codemirror_mode": {
    "name": "ipython",
    "version": 3
   },
   "file_extension": ".py",
   "mimetype": "text/x-python",
   "name": "python",
   "nbconvert_exporter": "python",
   "pygments_lexer": "ipython3",
   "version": "3.9.7"
  }
 },
 "nbformat": 4,
 "nbformat_minor": 4
}
