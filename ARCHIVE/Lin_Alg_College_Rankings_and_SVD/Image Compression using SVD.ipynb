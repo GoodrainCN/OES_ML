{
 "cells": [
  {
   "cell_type": "markdown",
   "metadata": {},
   "source": [
    "Import the required packages:"
   ]
  },
  {
   "cell_type": "code",
   "execution_count": null,
   "metadata": {},
   "outputs": [],
   "source": [
    "import numpy as np\n",
    "import matplotlib.pyplot as plt\n",
    "import matplotlib.image as mpimg\n",
    "%matplotlib inline"
   ]
  },
  {
   "cell_type": "markdown",
   "metadata": {},
   "source": [
    "We are going to apply image compression to this simple image:"
   ]
  },
  {
   "cell_type": "code",
   "execution_count": null,
   "metadata": {},
   "outputs": [],
   "source": [
    "img = mpimg.imread('images/OES.png')\n",
    "plt.imshow(img)"
   ]
  },
  {
   "cell_type": "markdown",
   "metadata": {},
   "source": [
    "If you try printing the image variable, you will get a matrix:"
   ]
  },
  {
   "cell_type": "code",
   "execution_count": null,
   "metadata": {},
   "outputs": [],
   "source": [
    "print(img)"
   ]
  },
  {
   "cell_type": "markdown",
   "metadata": {},
   "source": [
    "What does this matrix correspond to? It is a three dimensional matrix of size 113x120x3, where each of the 113x120 pixels in the image corresponds to a given red, green, and blue decimal value that gives that pixel its color:"
   ]
  },
  {
   "cell_type": "code",
   "execution_count": null,
   "metadata": {},
   "outputs": [],
   "source": [
    "print(len(img))\n",
    "print(len(img[0]))\n",
    "print(len(img[0][0]))"
   ]
  },
  {
   "cell_type": "markdown",
   "metadata": {},
   "source": [
    "Let us first convert the three dimensional color matrix to a two dimensional gray scale matrix by applying the following function:"
   ]
  },
  {
   "cell_type": "code",
   "execution_count": null,
   "metadata": {},
   "outputs": [],
   "source": [
    "def rgb2gray(rgb):\n",
    "    return np.dot(rgb[...,:3], [0.299, 0.587, 0.114])\n",
    "\n",
    "gray = rgb2gray(img)\n",
    "print('size of matrix = ',len(gray),len(gray[0]))\n",
    "rank=min(len(gray),len(gray[0]))\n",
    "print('rank of matrix =',rank)\n",
    "\n",
    "plt.rcParams['figure.figsize'] = 10,10\n",
    "plt.figure(1)\n",
    "plt.subplot(221)\n",
    "plt.imshow(gray, cmap = plt.get_cmap('gray'))\n",
    "plt.title('Original image, rank= %s'%rank)"
   ]
  },
  {
   "cell_type": "markdown",
   "metadata": {},
   "source": [
    "We see that if we use all 113 eigenvalues in our SVD decomposition, then we will get the exact image. What if we only use a few?"
   ]
  },
  {
   "cell_type": "code",
   "execution_count": null,
   "metadata": {},
   "outputs": [],
   "source": [
    "def create_subplot(rank, ax=None):\n",
    "    A = np.array(gray)\n",
    "    U, s, V = np.linalg.svd(A, full_matrices=False)\n",
    "    assert np.allclose(A, np.dot(U, np.dot(np.diag(s), V)))\n",
    "\n",
    "    s[rank:] = 0\n",
    "    new_A = np.dot(U, np.dot(np.diag(s), V))\n",
    "    ax.set_title(f'rank={rank}')\n",
    "    p = ax.imshow(new_A, cmap = plt.get_cmap('gray'))\n",
    "    return p\n",
    "\n",
    "\n",
    "# make figure with subplots\n",
    "f, axs = plt.subplots(2, 2, sharey=True, figsize=(10,7))\n",
    "create_subplot(2,axs[0,0])\n",
    "create_subplot(10,axs[0,1])\n",
    "create_subplot(20,axs[1,0])\n",
    "create_subplot(113,axs[1,1])"
   ]
  },
  {
   "cell_type": "markdown",
   "metadata": {},
   "source": [
    "Notice that using only the largest two real eigenvalues picks up on the OES box and the text across the screen. Using the largest 20 eigenvalues does a very good job of displaying all of the text; it just misses out on some of the white color. SVD is super powerful!!!\n",
    "\n",
    "### Extension: Research the similarities and differences between SVD and PCA (Principal Component Analysis). They are extremely similar but PCA seems to be more widely used in practice."
   ]
  }
 ],
 "metadata": {
  "kernelspec": {
   "display_name": "Python 3 (ipykernel)",
   "language": "python",
   "name": "python3"
  },
  "language_info": {
   "codemirror_mode": {
    "name": "ipython",
    "version": 3
   },
   "file_extension": ".py",
   "mimetype": "text/x-python",
   "name": "python",
   "nbconvert_exporter": "python",
   "pygments_lexer": "ipython3",
   "version": "3.8.3"
  }
 },
 "nbformat": 4,
 "nbformat_minor": 2
}
