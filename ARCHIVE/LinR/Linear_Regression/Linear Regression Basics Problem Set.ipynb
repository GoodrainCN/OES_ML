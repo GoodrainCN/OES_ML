{
 "cells": [
  {
   "cell_type": "markdown",
   "metadata": {},
   "source": [
    "Import the required packages below:"
   ]
  },
  {
   "cell_type": "code",
   "execution_count": 1,
   "metadata": {},
   "outputs": [],
   "source": [
    "import numpy as np\n",
    "import pandas as pd\n",
    "import matplotlib.pyplot as plt\n",
    "%matplotlib inline\n",
    "from sklearn.linear_model import LinearRegression\n",
    "from sklearn.metrics import mean_squared_error\n",
    "from scipy.stats import pearsonr"
   ]
  },
  {
   "cell_type": "markdown",
   "metadata": {},
   "source": [
    "Read in the CSV file data/airlines.csv containing the following info:\n",
    "![title](data/airlines.png)\n",
    "Use it to answer the following questions:"
   ]
  },
  {
   "cell_type": "markdown",
   "metadata": {},
   "source": [
    "1.Make a scatterplot of baggage vs. on time arrivals."
   ]
  },
  {
   "cell_type": "code",
   "execution_count": 43,
   "metadata": {},
   "outputs": [
    {
     "data": {
      "text/plain": [
       "Text(0, 0.5, 'Percentage On Time Arrivals')"
      ]
     },
     "execution_count": 43,
     "metadata": {},
     "output_type": "execute_result"
    },
    {
     "data": {
      "image/png": "[encoded data removed]",
      "text/plain": [
       "<Figure size 432x288 with 1 Axes>"
      ]
     },
     "metadata": {
      "needs_background": "light"
     },
     "output_type": "display_data"
    }
   ],
   "source": [
    "#insert 1\n",
    "baggage = pd.read_csv('data/airlines.csv', usecols=[1])\n",
    "time = pd.read_csv('data/airlines.csv', usecols=[2])\n",
    "plt.scatter(baggage,time)\n",
    "plt.title('Lin Reg')\n",
    "plt.xlabel('Baggage Weight')\n",
    "plt.ylabel('Percentage On Time Arrivals')"
   ]
  },
  {
   "cell_type": "code",
   "execution_count": 42,
   "metadata": {},
   "outputs": [
    {
     "data": {
      "text/plain": [
       "Text(0, 0.5, 'Percentage On Time Arrivals')"
      ]
     },
     "execution_count": 42,
     "metadata": {},
     "output_type": "execute_result"
    },
    {
     "data": {
      "image/png": "[encoded data removed]",
      "text/plain": [
       "<Figure size 432x288 with 1 Axes>"
      ]
     },
     "metadata": {
      "needs_background": "light"
     },
     "output_type": "display_data"
    }
   ],
   "source": [
    "df = pd.read_csv('data/airlines.csv')\n",
    "baggage = df['Mishandled baggage (per 1000 passengers)']\n",
    "time = df['Percentage On Time Arrivals']\n",
    "plt.scatter(baggage, time)\n",
    "plt.title('Lin Reg')\n",
    "plt.xlabel('Baggage Weight')\n",
    "plt.ylabel('Percentage On Time Arrivals')"
   ]
  },
  {
   "cell_type": "markdown",
   "metadata": {},
   "source": [
    "2.What is the correlation between baggage and on time arrivals?"
   ]
  },
  {
   "cell_type": "code",
   "execution_count": 4,
   "metadata": {},
   "outputs": [
    {
     "data": {
      "text/html": [
       "<div>\n",
       "<style scoped>\n",
       "    .dataframe tbody tr th:only-of-type {\n",
       "        vertical-align: middle;\n",
       "    }\n",
       "\n",
       "    .dataframe tbody tr th {\n",
       "        vertical-align: top;\n",
       "    }\n",
       "\n",
       "    .dataframe thead th {\n",
       "        text-align: right;\n",
       "    }\n",
       "</style>\n",
       "<table border=\"1\" class=\"dataframe\">\n",
       "  <thead>\n",
       "    <tr style=\"text-align: right;\">\n",
       "      <th></th>\n",
       "      <th>Mishandled baggage (per 1000 passengers)</th>\n",
       "      <th>Percentage On Time Arrivals</th>\n",
       "    </tr>\n",
       "  </thead>\n",
       "  <tbody>\n",
       "    <tr>\n",
       "      <th>Mishandled baggage (per 1000 passengers)</th>\n",
       "      <td>1.000000</td>\n",
       "      <td>-0.595319</td>\n",
       "    </tr>\n",
       "    <tr>\n",
       "      <th>Percentage On Time Arrivals</th>\n",
       "      <td>-0.595319</td>\n",
       "      <td>1.000000</td>\n",
       "    </tr>\n",
       "  </tbody>\n",
       "</table>\n",
       "</div>"
      ],
      "text/plain": [
       "                                          Mishandled baggage (per 1000 passengers)  \\\n",
       "Mishandled baggage (per 1000 passengers)                                  1.000000   \n",
       "Percentage On Time Arrivals                                              -0.595319   \n",
       "\n",
       "                                          Percentage On Time Arrivals  \n",
       "Mishandled baggage (per 1000 passengers)                    -0.595319  \n",
       "Percentage On Time Arrivals                                  1.000000  "
      ]
     },
     "execution_count": 4,
     "metadata": {},
     "output_type": "execute_result"
    }
   ],
   "source": [
    "#insert 2\n",
    "df.corr()"
   ]
  },
  {
   "cell_type": "markdown",
   "metadata": {},
   "source": [
    "3.What are the mean and standard deviation of the X and Y variables"
   ]
  },
  {
   "cell_type": "code",
   "execution_count": 5,
   "metadata": {},
   "outputs": [
    {
     "name": "stdout",
     "output_type": "stream",
     "text": [
      "Baggage mean: 5.739, Time mean: 74.85000000000001\n",
      "Baggage std: 1.3977000949973335, Time std: 5.0535466093955606\n"
     ]
    }
   ],
   "source": [
    "#insert 3\n",
    "print(f\"Baggage mean: {baggage.mean()}, Time mean: {time.mean()}\")\n",
    "print(f\"Baggage std: {baggage.std()}, Time std: {time.std()}\")"
   ]
  },
  {
   "cell_type": "markdown",
   "metadata": {},
   "source": [
    "4.Calculate the line of best fit by hand (show your calculations you use below)."
   ]
  },
  {
   "cell_type": "code",
   "execution_count": 6,
   "metadata": {},
   "outputs": [
    {
     "name": "stdout",
     "output_type": "stream",
     "text": [
      "y_hat = 87.20+-2.15x\n"
     ]
    }
   ],
   "source": [
    "#insert 4\n",
    "r = pearsonr(baggage,time)[0]\n",
    "m = time.std()/baggage.std() * r\n",
    "b = time.mean()-m*baggage.mean()\n",
    "print(f\"y_hat = {b:.2f}+{m:.2f}x\")"
   ]
  },
  {
   "cell_type": "markdown",
   "metadata": {},
   "source": [
    "5.Use scikit-learn to calculate the line of best fit. Print the slope and intercept."
   ]
  },
  {
   "cell_type": "code",
   "execution_count": 7,
   "metadata": {},
   "outputs": [
    {
     "name": "stdout",
     "output_type": "stream",
     "text": [
      "b:  [87.20288783]\n",
      "m:  [[-2.15244604]]\n"
     ]
    }
   ],
   "source": [
    "#insert 5\n",
    "# Create an empty model\n",
    "model = LinearRegression()\n",
    "x = np.array(df['Mishandled baggage (per 1000 passengers)'])\n",
    "y = np.array(df['Percentage On Time Arrivals'])\n",
    "x = x.reshape(-1,1)\n",
    "y = y.reshape(-1,1)\n",
    "# x=x.reshape(-1,1)\n",
    "# y=y.reshape(-1,1)\n",
    "model.fit(x,y)\n",
    "# print out intercept\n",
    "print('b: ', model.intercept_)\n",
    "# print out other coefficients\n",
    "print('m: ', model.coef_)"
   ]
  },
  {
   "cell_type": "markdown",
   "metadata": {},
   "source": [
    "6.Superimpose the line of best fit on the data."
   ]
  },
  {
   "cell_type": "code",
   "execution_count": 8,
   "metadata": {},
   "outputs": [
    {
     "data": {
      "text/plain": [
       "Text(0, 0.5, 'Percentage On Time Arrivals')"
      ]
     },
     "execution_count": 8,
     "metadata": {},
     "output_type": "execute_result"
    },
    {
     "data": {
      "image/png": "[encoded data removed]",
      "text/plain": [
       "<Figure size 432x288 with 1 Axes>"
      ]
     },
     "metadata": {
      "needs_background": "light"
     },
     "output_type": "display_data"
    }
   ],
   "source": [
    "#insert 6\n",
    "y_pred = model.predict(x)\n",
    "plt.scatter(baggage, time)\n",
    "plt.scatter(baggage, y_pred)\n",
    "plt.plot(baggage, y_pred, color='orange')\n",
    "plt.title('Lin Reg')\n",
    "plt.xlabel('Baggage Weight')\n",
    "plt.ylabel('Percentage On Time Arrivals')"
   ]
  },
  {
   "cell_type": "markdown",
   "metadata": {},
   "source": [
    "7.Interpret the slope of your model in context."
   ]
  },
  {
   "cell_type": "code",
   "execution_count": 9,
   "metadata": {},
   "outputs": [],
   "source": [
    "#insert 7\n",
    "\n",
    "#The increases of Baggage weight will result an 2.14 decrease for the perventage of the Time Arrivals"
   ]
  },
  {
   "cell_type": "markdown",
   "metadata": {},
   "source": [
    "8.Interpret the intercept of your model in context."
   ]
  },
  {
   "cell_type": "code",
   "execution_count": 10,
   "metadata": {},
   "outputs": [],
   "source": [
    "#insert 8\n",
    "\n",
    "#When the baggage weight is 4.0, there will be a 87 percent for the tme arrival on time."
   ]
  },
  {
   "cell_type": "markdown",
   "metadata": {},
   "source": [
    "9.Calculate and explain the meaning of your $R^2$ in context."
   ]
  },
  {
   "cell_type": "code",
   "execution_count": 11,
   "metadata": {},
   "outputs": [
    {
     "name": "stdout",
     "output_type": "stream",
     "text": [
      "0.3544051172339229\n"
     ]
    }
   ],
   "source": [
    "#insert 9\n",
    "df1 = pd.DataFrame(y_pred)\n",
    "df = df.join(df1)\n",
    "r = df.corr().values[1][2]\n",
    "rs = r ** 2\n",
    "print(rs)"
   ]
  },
  {
   "cell_type": "markdown",
   "metadata": {},
   "source": [
    "10.Create a residual plot. Based on the residual plot, does a linear model seem appropriate?"
   ]
  },
  {
   "cell_type": "code",
   "execution_count": 24,
   "metadata": {},
   "outputs": [
    {
     "data": {
      "text/plain": [
       "Text(0.5, 1.0, 'Residual Plot')"
      ]
     },
     "execution_count": 24,
     "metadata": {},
     "output_type": "execute_result"
    },
    {
     "data": {
      "image/png": "[encoded data removed]",
      "text/plain": [
       "<Figure size 504x360 with 1 Axes>"
      ]
     },
     "metadata": {
      "needs_background": "light"
     },
     "output_type": "display_data"
    }
   ],
   "source": [
    "#insert 10\n",
    "plt.figure(figsize=(7,5))\n",
    "plt.plot(x,y - model.predict(x), '.');\n",
    "plt.xlabel('year');\n",
    "plt.ylabel('residual');\n",
    "plt.title('Residual Plot')"
   ]
  },
  {
   "cell_type": "markdown",
   "metadata": {},
   "source": [
    "11.Calculate the residual of American Airlines using Python syntax."
   ]
  },
  {
   "cell_type": "code",
   "execution_count": 38,
   "metadata": {},
   "outputs": [
    {
     "name": "stdout",
     "output_type": "stream",
     "text": [
      "[[ 4.08177691]\n",
      " [ 2.30689634]\n",
      " [ 0.71092367]\n",
      " [ 6.50862582]\n",
      " [-1.55858712]\n",
      " [-0.66040727]\n",
      " [-0.11198856]\n",
      " [ 0.18125388]\n",
      " [-2.99271662]\n",
      " [-8.46577705]]\n"
     ]
    }
   ],
   "source": [
    "#insert 11\n",
    "resi = y - model.predict(x)\n",
    "print(resi)\n",
    "# result=0\n",
    "# for i in resi:\n",
    "#     result += i[0]\n",
    "# print(result)"
   ]
  },
  {
   "cell_type": "markdown",
   "metadata": {},
   "source": [
    "12.As a consumer, would you prefer to fly on an airline that had a positive or negative residual? Why?"
   ]
  },
  {
   "cell_type": "code",
   "execution_count": 14,
   "metadata": {},
   "outputs": [],
   "source": [
    "#insert 12\n",
    "\n",
    "#Positive Residule, because this means the actual value shows that the overall the planes will arrive on time. "
   ]
  },
  {
   "cell_type": "markdown",
   "metadata": {},
   "source": [
    "13.What would you predict an airline with a mishandled baggage rate of 10 (per 1000 customers) to have as their ontime arrival percentage?"
   ]
  },
  {
   "cell_type": "code",
   "execution_count": 41,
   "metadata": {},
   "outputs": [
    {
     "data": {
      "text/plain": [
       "Text(0, 0.5, 'Baggae Weight')"
      ]
     },
     "execution_count": 41,
     "metadata": {},
     "output_type": "execute_result"
    },
    {
     "data": {
      "image/png": "[encoded data removed]",
      "text/plain": [
       "<Figure size 432x288 with 1 Axes>"
      ]
     },
     "metadata": {
      "needs_background": "light"
     },
     "output_type": "display_data"
    }
   ],
   "source": [
    "#Insert 13\n",
    "plt.scatter(time, baggage)\n",
    "plt.title('Lin Reg')\n",
    "plt.xlabel('Percentage On Time Arrivals')\n",
    "plt.ylabel('Baggae Weight')"
   ]
  }
 ],
 "metadata": {
  "kernelspec": {
   "display_name": "Python 3 (ipykernel)",
   "language": "python",
   "name": "python3"
  },
  "language_info": {
   "codemirror_mode": {
    "name": "ipython",
    "version": 3
   },
   "file_extension": ".py",
   "mimetype": "text/x-python",
   "name": "python",
   "nbconvert_exporter": "python",
   "pygments_lexer": "ipython3",
   "version": "3.9.7"
  }
 },
 "nbformat": 4,
 "nbformat_minor": 2
}
