{
 "cells": [
  {
   "cell_type": "markdown",
   "metadata": {},
   "source": [
    "Run the cell below to import the required packages:"
   ]
  },
  {
   "cell_type": "code",
   "execution_count": 42,
   "metadata": {},
   "outputs": [],
   "source": [
    "import numpy as np\n",
    "import pandas as pd\n",
    "import matplotlib.pyplot as plt\n",
    "%matplotlib inline\n",
    "\n",
    "from sklearn.utils.extmath import randomized_svd\n",
    "from sklearn.preprocessing import StandardScaler\n",
    "from sklearn.decomposition import TruncatedSVD"
   ]
  },
  {
   "cell_type": "markdown",
   "metadata": {},
   "source": [
    "### Recommendation systems\n",
    "\n",
    "Recommendation systems can be thought of as applying SVD to a User/Item matrix.\n",
    "\n",
    "In this case our decomposition has a new interpretation:\n",
    "- $\\Sigma$ are the importances of each of our latent features\n",
    "- $U$ is a transformation from a person's buying habits/reviews to the latent features that represent their preferences\n",
    "- $V$ is a transformation from the list of people who like this item, to the latent features of the item\n",
    "\n",
    "Note that **latent features** are features that we don't directly observe but can be extracted typically by some algorithm.\n",
    "\n",
    "By setting a large number of our singular values (eigenvalues) to 0, and reconstructing the original matrix, we will gain an estimate of how much each user will like each item."
   ]
  },
  {
   "cell_type": "markdown",
   "metadata": {},
   "source": [
    "### Simplified example\n",
    "\n",
    "First, let's generate a really simple data set. Each row is a user, and each column is an item. If the value for a user:item location is 1; that user has \"liked\" that item. If it is a 0, then they do not like that item."
   ]
  },
  {
   "cell_type": "code",
   "execution_count": 38,
   "metadata": {},
   "outputs": [],
   "source": [
    "num_users = 10\n",
    "num_items = 5"
   ]
  },
  {
   "cell_type": "code",
   "execution_count": 39,
   "metadata": {},
   "outputs": [
    {
     "data": {
      "text/html": [
       "<div>\n",
       "<style scoped>\n",
       "    .dataframe tbody tr th:only-of-type {\n",
       "        vertical-align: middle;\n",
       "    }\n",
       "\n",
       "    .dataframe tbody tr th {\n",
       "        vertical-align: top;\n",
       "    }\n",
       "\n",
       "    .dataframe thead th {\n",
       "        text-align: right;\n",
       "    }\n",
       "</style>\n",
       "<table border=\"1\" class=\"dataframe\">\n",
       "  <thead>\n",
       "    <tr style=\"text-align: right;\">\n",
       "      <th></th>\n",
       "      <th>0</th>\n",
       "      <th>1</th>\n",
       "      <th>2</th>\n",
       "      <th>3</th>\n",
       "      <th>4</th>\n",
       "    </tr>\n",
       "  </thead>\n",
       "  <tbody>\n",
       "    <tr>\n",
       "      <th>0</th>\n",
       "      <td>0</td>\n",
       "      <td>1</td>\n",
       "      <td>0</td>\n",
       "      <td>1</td>\n",
       "      <td>0</td>\n",
       "    </tr>\n",
       "    <tr>\n",
       "      <th>1</th>\n",
       "      <td>1</td>\n",
       "      <td>0</td>\n",
       "      <td>0</td>\n",
       "      <td>0</td>\n",
       "      <td>1</td>\n",
       "    </tr>\n",
       "    <tr>\n",
       "      <th>2</th>\n",
       "      <td>1</td>\n",
       "      <td>1</td>\n",
       "      <td>1</td>\n",
       "      <td>0</td>\n",
       "      <td>1</td>\n",
       "    </tr>\n",
       "    <tr>\n",
       "      <th>3</th>\n",
       "      <td>0</td>\n",
       "      <td>0</td>\n",
       "      <td>1</td>\n",
       "      <td>1</td>\n",
       "      <td>0</td>\n",
       "    </tr>\n",
       "    <tr>\n",
       "      <th>4</th>\n",
       "      <td>0</td>\n",
       "      <td>0</td>\n",
       "      <td>1</td>\n",
       "      <td>0</td>\n",
       "      <td>0</td>\n",
       "    </tr>\n",
       "    <tr>\n",
       "      <th>5</th>\n",
       "      <td>1</td>\n",
       "      <td>1</td>\n",
       "      <td>1</td>\n",
       "      <td>0</td>\n",
       "      <td>1</td>\n",
       "    </tr>\n",
       "    <tr>\n",
       "      <th>6</th>\n",
       "      <td>0</td>\n",
       "      <td>0</td>\n",
       "      <td>1</td>\n",
       "      <td>0</td>\n",
       "      <td>0</td>\n",
       "    </tr>\n",
       "    <tr>\n",
       "      <th>7</th>\n",
       "      <td>1</td>\n",
       "      <td>0</td>\n",
       "      <td>0</td>\n",
       "      <td>0</td>\n",
       "      <td>1</td>\n",
       "    </tr>\n",
       "    <tr>\n",
       "      <th>8</th>\n",
       "      <td>1</td>\n",
       "      <td>0</td>\n",
       "      <td>0</td>\n",
       "      <td>1</td>\n",
       "      <td>0</td>\n",
       "    </tr>\n",
       "    <tr>\n",
       "      <th>9</th>\n",
       "      <td>0</td>\n",
       "      <td>0</td>\n",
       "      <td>1</td>\n",
       "      <td>0</td>\n",
       "      <td>0</td>\n",
       "    </tr>\n",
       "  </tbody>\n",
       "</table>\n",
       "</div>"
      ],
      "text/plain": [
       "   0  1  2  3  4\n",
       "0  0  1  0  1  0\n",
       "1  1  0  0  0  1\n",
       "2  1  1  1  0  1\n",
       "3  0  0  1  1  0\n",
       "4  0  0  1  0  0\n",
       "5  1  1  1  0  1\n",
       "6  0  0  1  0  0\n",
       "7  1  0  0  0  1\n",
       "8  1  0  0  1  0\n",
       "9  0  0  1  0  0"
      ]
     },
     "execution_count": 39,
     "metadata": {},
     "output_type": "execute_result"
    }
   ],
   "source": [
    "df = pd.DataFrame(np.array([[0,1,0,1,0],[1,0,0,0,1],[1,1,1,0,1],[0,0,1,1,0],[0,0,1,0,0],[1,1,1,0,1],[0,0,1,0,0],\n",
    "                [1,0,0,0,1],[1,0,0,1,0],[0,0,1,0,0]]))\n",
    "df"
   ]
  },
  {
   "cell_type": "markdown",
   "metadata": {},
   "source": [
    "Notice in the above matrix that items 0 and 4 have a lot of overlapping users. Users that like Item 0 tend to also like Item 4.\n",
    "\n",
    "So if we take the dot products of items, we expect that items 0 & 4 are the most similar:"
   ]
  },
  {
   "cell_type": "code",
   "execution_count": 40,
   "metadata": {},
   "outputs": [
    {
     "name": "stdout",
     "output_type": "stream",
     "text": [
      "Item 0 & 1: Dot Product = 2\n",
      "Item 0 & 2: Dot Product = 2\n",
      "Item 0 & 3: Dot Product = 1\n",
      "Item 0 & 4: Dot Product = 4\n"
     ]
    }
   ],
   "source": [
    "compare_item = 0\n",
    "for item in range(num_items):\n",
    "    if item != compare_item:\n",
    "        print(f\"Item {compare_item} & {item}: Dot Product = {np.dot(df[compare_item],df[item])}\")"
   ]
  },
  {
   "cell_type": "markdown",
   "metadata": {},
   "source": [
    "We can generalize the above calculations in order to make a function that returns recommendations for a given item input (this user likes item 0... so she'll probably also like items X, Y, Z)."
   ]
  },
  {
   "cell_type": "code",
   "execution_count": 41,
   "metadata": {},
   "outputs": [
    {
     "name": "stdout",
     "output_type": "stream",
     "text": [
      "Items similar to item 0: [4, 2, 1]\n"
     ]
    }
   ],
   "source": [
    "def get_item_recommendations(compare_item, df, num_recom):\n",
    "    recs = []\n",
    "    for item in range(num_items):\n",
    "        if item != compare_item:\n",
    "            recs.append((np.dot(df[compare_item],df[item]), item))\n",
    "    recs.sort(reverse = True)\n",
    "    final_rec = [recs[i][1] for i in range(num_recom)]\n",
    "    return final_rec\n",
    "\n",
    "item = 0\n",
    "print(f\"Items similar to item {item}: {get_item_recommendations(item,df,3)}\")"
   ]
  },
  {
   "cell_type": "markdown",
   "metadata": {},
   "source": [
    "Now notice in the original matrix that users 2 and 5 like exactly the same items.\n",
    "\n",
    "If we compare users, we expect that users 2 & 5 should be the most similar."
   ]
  },
  {
   "cell_type": "code",
   "execution_count": 31,
   "metadata": {},
   "outputs": [
    {
     "name": "stdout",
     "output_type": "stream",
     "text": [
      "User 2 & 0: Dot Product: 1\n",
      "User 2 & 1: Dot Product: 2\n",
      "User 2 & 3: Dot Product: 1\n",
      "User 2 & 4: Dot Product: 1\n",
      "User 2 & 5: Dot Product: 4\n",
      "User 2 & 6: Dot Product: 1\n",
      "User 2 & 7: Dot Product: 2\n",
      "User 2 & 8: Dot Product: 1\n",
      "User 2 & 9: Dot Product: 1\n"
     ]
    }
   ],
   "source": [
    "compare_user = 2\n",
    "for user in range(num_users):\n",
    "    if user != compare_user:\n",
    "        print(f\"User {compare_user} & {user}: Dot Product: {np.dot(df.T[compare_user],df.T[user])}\")"
   ]
  },
  {
   "cell_type": "markdown",
   "metadata": {},
   "source": [
    "Let's generalize the above calculations in order to find a user that's most similar to another user. (Ex: User 2 is most similar to User 5 so therefore we'll recommend User 2 the movies that User 5 also likes.)"
   ]
  },
  {
   "cell_type": "code",
   "execution_count": 32,
   "metadata": {},
   "outputs": [
    {
     "name": "stdout",
     "output_type": "stream",
     "text": [
      "Users similar to user 0: [8, 5, 3]\n",
      "Users similar to user 1: [7, 5, 2]\n",
      "Users similar to user 2: [5, 7, 1]\n",
      "Users similar to user 3: [9, 8, 6]\n",
      "Users similar to user 4: [9, 6, 5]\n",
      "Users similar to user 5: [2, 7, 1]\n",
      "Users similar to user 6: [9, 5, 4]\n",
      "Users similar to user 7: [5, 2, 1]\n",
      "Users similar to user 8: [7, 5, 3]\n",
      "Users similar to user 9: [6, 5, 4]\n"
     ]
    }
   ],
   "source": [
    "def get_user_recommendations(compare_user, df, num_recom):\n",
    "    '''input a user number and input the num_recom most similar users to that user in decending order'''\n",
    "    recs = []\n",
    "    for user in range(num_users):\n",
    "        if user != compare_user:\n",
    "            recs.append((np.dot(df.T[compare_user],df.T[user]), user))\n",
    "        \n",
    "    recs.sort(reverse = True)\n",
    "    #print(recs)\n",
    "    final_rec = [recs[i][1] for i in range(num_recom)]\n",
    "    return final_rec\n",
    "\n",
    "user = 2\n",
    "for user in range(10):\n",
    "    print(f\"Users similar to user {user}: {get_user_recommendations(user,df,3)}\")"
   ]
  },
  {
   "cell_type": "code",
   "execution_count": 33,
   "metadata": {},
   "outputs": [],
   "source": [
    "U, Sigma, VT = randomized_svd(df.to_numpy(), \n",
    "                              n_components=3,\n",
    "                              n_iter=5,\n",
    "                              random_state=None)"
   ]
  },
  {
   "cell_type": "markdown",
   "metadata": {},
   "source": [
    "VT is now a matrix where each column represents one of the items in the new vector space. Each row is one component of the vector space, for the items:"
   ]
  },
  {
   "cell_type": "code",
   "execution_count": 36,
   "metadata": {},
   "outputs": [
    {
     "data": {
      "text/html": [
       "<div>\n",
       "<style scoped>\n",
       "    .dataframe tbody tr th:only-of-type {\n",
       "        vertical-align: middle;\n",
       "    }\n",
       "\n",
       "    .dataframe tbody tr th {\n",
       "        vertical-align: top;\n",
       "    }\n",
       "\n",
       "    .dataframe thead th {\n",
       "        text-align: right;\n",
       "    }\n",
       "</style>\n",
       "<table border=\"1\" class=\"dataframe\">\n",
       "  <thead>\n",
       "    <tr style=\"text-align: right;\">\n",
       "      <th></th>\n",
       "      <th>0</th>\n",
       "      <th>1</th>\n",
       "      <th>2</th>\n",
       "      <th>3</th>\n",
       "      <th>4</th>\n",
       "    </tr>\n",
       "  </thead>\n",
       "  <tbody>\n",
       "    <tr>\n",
       "      <th>0</th>\n",
       "      <td>0.566181</td>\n",
       "      <td>0.370786</td>\n",
       "      <td>0.510385</td>\n",
       "      <td>0.161386</td>\n",
       "      <td>0.505390</td>\n",
       "    </tr>\n",
       "    <tr>\n",
       "      <th>1</th>\n",
       "      <td>-0.439392</td>\n",
       "      <td>0.070085</td>\n",
       "      <td>0.745835</td>\n",
       "      <td>0.287175</td>\n",
       "      <td>-0.404084</td>\n",
       "    </tr>\n",
       "    <tr>\n",
       "      <th>2</th>\n",
       "      <td>0.140944</td>\n",
       "      <td>0.201802</td>\n",
       "      <td>-0.379220</td>\n",
       "      <td>0.869133</td>\n",
       "      <td>-0.200525</td>\n",
       "    </tr>\n",
       "  </tbody>\n",
       "</table>\n",
       "</div>"
      ],
      "text/plain": [
       "          0         1         2         3         4\n",
       "0  0.566181  0.370786  0.510385  0.161386  0.505390\n",
       "1 -0.439392  0.070085  0.745835  0.287175 -0.404084\n",
       "2  0.140944  0.201802 -0.379220  0.869133 -0.200525"
      ]
     },
     "execution_count": 36,
     "metadata": {},
     "output_type": "execute_result"
    }
   ],
   "source": [
    "pd.DataFrame(VT)\n",
    "# pd.DataFrame(U)\n"
   ]
  },
  {
   "cell_type": "markdown",
   "metadata": {},
   "source": [
    "Notice that we can alter our get_item_recommendations function slightly (by using transposes in our multiplication formula) to find similar items to item 0. (Notice that when we used the 10 users in our calculations above then the similar item recommendations were [4, 1, 2]. Using only 3 feature vectors, the recommendations below are [4,1,3]. Pretty close!"
   ]
  },
  {
   "cell_type": "code",
   "execution_count": 18,
   "metadata": {},
   "outputs": [
    {
     "name": "stdout",
     "output_type": "stream",
     "text": [
      "[(0.43543051900350305, 4), (0.20757991830894254, 1), (0.08769089784547734, 3), (-0.09219250348261035, 2)]\n",
      "Items similar to item 0: [4, 1, 3]\n"
     ]
    }
   ],
   "source": [
    "def get_item_recommendations(compare_item, df, num_recom):\n",
    "    recs = []\n",
    "    for item in range(df.T.shape[0]):                                    # for each item except itself\n",
    "        if item != compare_item:\n",
    "            #print(df.T[compare_item],df.T[item], item, np.dot(df.T[compare_item],df.T[item]), item)                 # uncomment this line if you need a better understanding of what is happening\n",
    "            recs.append((np.dot(df.T[compare_item],df.T[item]), item))   # calculate the dot product pairings between each of the items principal components\n",
    "    \n",
    "    recs.sort(reverse = True)                 # sort in decending order of dot product value\n",
    "    print(recs)\n",
    "    final_rec = [recs[i][1] for i in range(num_recom)]          # create a list of the top num_recom most similar items\n",
    "    return final_rec\n",
    "\n",
    "item = 0\n",
    "print(f\"Items similar to item {item}: {get_item_recommendations(item,VT,3)}\")"
   ]
  },
  {
   "cell_type": "markdown",
   "metadata": {},
   "source": [
    "U is a matrix where each row is a user and each column shows the location in the hidden vector space created by the SVD:"
   ]
  },
  {
   "cell_type": "code",
   "execution_count": 19,
   "metadata": {},
   "outputs": [
    {
     "data": {
      "text/html": [
       "<div>\n",
       "<style scoped>\n",
       "    .dataframe tbody tr th:only-of-type {\n",
       "        vertical-align: middle;\n",
       "    }\n",
       "\n",
       "    .dataframe tbody tr th {\n",
       "        vertical-align: top;\n",
       "    }\n",
       "\n",
       "    .dataframe thead th {\n",
       "        text-align: right;\n",
       "    }\n",
       "</style>\n",
       "<table border=\"1\" class=\"dataframe\">\n",
       "  <thead>\n",
       "    <tr style=\"text-align: right;\">\n",
       "      <th></th>\n",
       "      <th>0</th>\n",
       "      <th>1</th>\n",
       "      <th>2</th>\n",
       "    </tr>\n",
       "  </thead>\n",
       "  <tbody>\n",
       "    <tr>\n",
       "      <th>0</th>\n",
       "      <td>0.153829</td>\n",
       "      <td>0.172063</td>\n",
       "      <td>0.622675</td>\n",
       "    </tr>\n",
       "    <tr>\n",
       "      <th>1</th>\n",
       "      <td>0.309746</td>\n",
       "      <td>-0.406234</td>\n",
       "      <td>-0.034642</td>\n",
       "    </tr>\n",
       "    <tr>\n",
       "      <th>2</th>\n",
       "      <td>0.564455</td>\n",
       "      <td>-0.013272</td>\n",
       "      <td>-0.137799</td>\n",
       "    </tr>\n",
       "    <tr>\n",
       "      <th>3</th>\n",
       "      <td>0.194181</td>\n",
       "      <td>0.497517</td>\n",
       "      <td>0.284851</td>\n",
       "    </tr>\n",
       "    <tr>\n",
       "      <th>4</th>\n",
       "      <td>0.147531</td>\n",
       "      <td>0.359208</td>\n",
       "      <td>-0.220491</td>\n",
       "    </tr>\n",
       "    <tr>\n",
       "      <th>5</th>\n",
       "      <td>0.564455</td>\n",
       "      <td>-0.013272</td>\n",
       "      <td>-0.137799</td>\n",
       "    </tr>\n",
       "    <tr>\n",
       "      <th>6</th>\n",
       "      <td>0.147531</td>\n",
       "      <td>0.359208</td>\n",
       "      <td>-0.220491</td>\n",
       "    </tr>\n",
       "    <tr>\n",
       "      <th>7</th>\n",
       "      <td>0.309746</td>\n",
       "      <td>-0.406234</td>\n",
       "      <td>-0.034642</td>\n",
       "    </tr>\n",
       "    <tr>\n",
       "      <th>8</th>\n",
       "      <td>0.210309</td>\n",
       "      <td>-0.073311</td>\n",
       "      <td>0.587291</td>\n",
       "    </tr>\n",
       "    <tr>\n",
       "      <th>9</th>\n",
       "      <td>0.147531</td>\n",
       "      <td>0.359208</td>\n",
       "      <td>-0.220491</td>\n",
       "    </tr>\n",
       "  </tbody>\n",
       "</table>\n",
       "</div>"
      ],
      "text/plain": [
       "          0         1         2\n",
       "0  0.153829  0.172063  0.622675\n",
       "1  0.309746 -0.406234 -0.034642\n",
       "2  0.564455 -0.013272 -0.137799\n",
       "3  0.194181  0.497517  0.284851\n",
       "4  0.147531  0.359208 -0.220491\n",
       "5  0.564455 -0.013272 -0.137799\n",
       "6  0.147531  0.359208 -0.220491\n",
       "7  0.309746 -0.406234 -0.034642\n",
       "8  0.210309 -0.073311  0.587291\n",
       "9  0.147531  0.359208 -0.220491"
      ]
     },
     "execution_count": 19,
     "metadata": {},
     "output_type": "execute_result"
    }
   ],
   "source": [
    "pd.DataFrame(U)\n"
   ]
  },
  {
   "cell_type": "markdown",
   "metadata": {},
   "source": [
    "We can also alter our get_user_recommendations function slightly (by NOT using transposes in our multiplication formula) to find similar users to user 2. (Notice that when we used the 4 items in our calculations above then the similar user recommendations to user 2 were [5, 7, 1]. Using only 3 feature vectors, the recommendations are [5, 7, 1]. An exact match!"
   ]
  },
  {
   "cell_type": "code",
   "execution_count": 20,
   "metadata": {},
   "outputs": [
    {
     "name": "stdout",
     "output_type": "stream",
     "text": [
      "Users similar to user 0: [0, 8, 3]\n",
      "Users similar to user 1: [7, 1, 5]\n",
      "Users similar to user 2: [5, 2, 7]\n",
      "Users similar to user 3: [3, 0, 8]\n",
      "Users similar to user 4: [9, 6, 4]\n",
      "Users similar to user 5: [5, 2, 7]\n",
      "Users similar to user 6: [9, 6, 4]\n",
      "Users similar to user 7: [7, 1, 5]\n",
      "Users similar to user 8: [8, 0, 3]\n",
      "Users similar to user 9: [9, 6, 4]\n"
     ]
    }
   ],
   "source": [
    "def get_user_recommendations(compare_user, df, num_recom):\n",
    "    recs = []\n",
    "    for user in range(df.shape[0]):\n",
    "        #if user != compare_user:\n",
    "        recs.append((np.dot(df[compare_user],df[user]), user))\n",
    "    recs.sort(reverse = True)\n",
    "    #print(recs)\n",
    "    final_rec = [recs[i][1] for i in range(num_recom)]\n",
    "    return final_rec\n",
    "\n",
    "# note how some users are \"more similar\" to other users than to themselves\n",
    "# these users who a greater magnitude in the same direction of preference\n",
    "for user in range(10):\n",
    "    print(f\"Users similar to user {user}: {get_user_recommendations(user,U,3)}\")"
   ]
  },
  {
   "cell_type": "markdown",
   "metadata": {},
   "source": [
    "### Scaling is important\n",
    "Since our data only contained 0's and 1's in this example, scaling wasn't very important.  However, remember that when we use distance-based algorithms (which we are doing in this case) we should scale first. Let's scale our dataframe first:"
   ]
  },
  {
   "cell_type": "code",
   "execution_count": 21,
   "metadata": {},
   "outputs": [
    {
     "data": {
      "text/plain": [
       "array([[-1.        ,  1.52752523, -1.22474487,  1.52752523, -0.81649658],\n",
       "       [ 1.        , -0.65465367, -1.22474487, -0.65465367,  1.22474487],\n",
       "       [ 1.        ,  1.52752523,  0.81649658, -0.65465367,  1.22474487],\n",
       "       [-1.        , -0.65465367,  0.81649658,  1.52752523, -0.81649658],\n",
       "       [-1.        , -0.65465367,  0.81649658, -0.65465367, -0.81649658],\n",
       "       [ 1.        ,  1.52752523,  0.81649658, -0.65465367,  1.22474487],\n",
       "       [-1.        , -0.65465367,  0.81649658, -0.65465367, -0.81649658],\n",
       "       [ 1.        , -0.65465367, -1.22474487, -0.65465367,  1.22474487],\n",
       "       [ 1.        , -0.65465367, -1.22474487,  1.52752523, -0.81649658],\n",
       "       [-1.        , -0.65465367,  0.81649658, -0.65465367, -0.81649658]])"
      ]
     },
     "execution_count": 21,
     "metadata": {},
     "output_type": "execute_result"
    }
   ],
   "source": [
    "sc_X = StandardScaler()\n",
    "scaled_df = sc_X.fit_transform(df)\n",
    "#scaled_df[0] \n",
    "scaled_df"
   ]
  },
  {
   "cell_type": "markdown",
   "metadata": {},
   "source": [
    "However, the fit_transform algorithm returns the data in a numpy matrix, not a dataframe. Let's put it back into a dataframe in order to be able to use the same get_item_recommendations function that we made above:"
   ]
  },
  {
   "cell_type": "code",
   "execution_count": 24,
   "metadata": {},
   "outputs": [
    {
     "data": {
      "text/html": [
       "<div>\n",
       "<style scoped>\n",
       "    .dataframe tbody tr th:only-of-type {\n",
       "        vertical-align: middle;\n",
       "    }\n",
       "\n",
       "    .dataframe tbody tr th {\n",
       "        vertical-align: top;\n",
       "    }\n",
       "\n",
       "    .dataframe thead th {\n",
       "        text-align: right;\n",
       "    }\n",
       "</style>\n",
       "<table border=\"1\" class=\"dataframe\">\n",
       "  <thead>\n",
       "    <tr style=\"text-align: right;\">\n",
       "      <th></th>\n",
       "      <th>0</th>\n",
       "      <th>1</th>\n",
       "      <th>2</th>\n",
       "      <th>3</th>\n",
       "      <th>4</th>\n",
       "    </tr>\n",
       "  </thead>\n",
       "  <tbody>\n",
       "    <tr>\n",
       "      <th>0</th>\n",
       "      <td>-1.0</td>\n",
       "      <td>1.527525</td>\n",
       "      <td>-1.224745</td>\n",
       "      <td>1.527525</td>\n",
       "      <td>-0.816497</td>\n",
       "    </tr>\n",
       "    <tr>\n",
       "      <th>1</th>\n",
       "      <td>1.0</td>\n",
       "      <td>-0.654654</td>\n",
       "      <td>-1.224745</td>\n",
       "      <td>-0.654654</td>\n",
       "      <td>1.224745</td>\n",
       "    </tr>\n",
       "    <tr>\n",
       "      <th>2</th>\n",
       "      <td>1.0</td>\n",
       "      <td>1.527525</td>\n",
       "      <td>0.816497</td>\n",
       "      <td>-0.654654</td>\n",
       "      <td>1.224745</td>\n",
       "    </tr>\n",
       "    <tr>\n",
       "      <th>3</th>\n",
       "      <td>-1.0</td>\n",
       "      <td>-0.654654</td>\n",
       "      <td>0.816497</td>\n",
       "      <td>1.527525</td>\n",
       "      <td>-0.816497</td>\n",
       "    </tr>\n",
       "    <tr>\n",
       "      <th>4</th>\n",
       "      <td>-1.0</td>\n",
       "      <td>-0.654654</td>\n",
       "      <td>0.816497</td>\n",
       "      <td>-0.654654</td>\n",
       "      <td>-0.816497</td>\n",
       "    </tr>\n",
       "    <tr>\n",
       "      <th>5</th>\n",
       "      <td>1.0</td>\n",
       "      <td>1.527525</td>\n",
       "      <td>0.816497</td>\n",
       "      <td>-0.654654</td>\n",
       "      <td>1.224745</td>\n",
       "    </tr>\n",
       "    <tr>\n",
       "      <th>6</th>\n",
       "      <td>-1.0</td>\n",
       "      <td>-0.654654</td>\n",
       "      <td>0.816497</td>\n",
       "      <td>-0.654654</td>\n",
       "      <td>-0.816497</td>\n",
       "    </tr>\n",
       "    <tr>\n",
       "      <th>7</th>\n",
       "      <td>1.0</td>\n",
       "      <td>-0.654654</td>\n",
       "      <td>-1.224745</td>\n",
       "      <td>-0.654654</td>\n",
       "      <td>1.224745</td>\n",
       "    </tr>\n",
       "    <tr>\n",
       "      <th>8</th>\n",
       "      <td>1.0</td>\n",
       "      <td>-0.654654</td>\n",
       "      <td>-1.224745</td>\n",
       "      <td>1.527525</td>\n",
       "      <td>-0.816497</td>\n",
       "    </tr>\n",
       "    <tr>\n",
       "      <th>9</th>\n",
       "      <td>-1.0</td>\n",
       "      <td>-0.654654</td>\n",
       "      <td>0.816497</td>\n",
       "      <td>-0.654654</td>\n",
       "      <td>-0.816497</td>\n",
       "    </tr>\n",
       "  </tbody>\n",
       "</table>\n",
       "</div>"
      ],
      "text/plain": [
       "     0         1         2         3         4\n",
       "0 -1.0  1.527525 -1.224745  1.527525 -0.816497\n",
       "1  1.0 -0.654654 -1.224745 -0.654654  1.224745\n",
       "2  1.0  1.527525  0.816497 -0.654654  1.224745\n",
       "3 -1.0 -0.654654  0.816497  1.527525 -0.816497\n",
       "4 -1.0 -0.654654  0.816497 -0.654654 -0.816497\n",
       "5  1.0  1.527525  0.816497 -0.654654  1.224745\n",
       "6 -1.0 -0.654654  0.816497 -0.654654 -0.816497\n",
       "7  1.0 -0.654654 -1.224745 -0.654654  1.224745\n",
       "8  1.0 -0.654654 -1.224745  1.527525 -0.816497\n",
       "9 -1.0 -0.654654  0.816497 -0.654654 -0.816497"
      ]
     },
     "execution_count": 24,
     "metadata": {},
     "output_type": "execute_result"
    }
   ],
   "source": [
    "new_df = pd.DataFrame(scaled_df, columns = df.columns, index = df.index)\n",
    "# new_df.head()\n",
    "new_df"
   ]
  },
  {
   "cell_type": "markdown",
   "metadata": {},
   "source": [
    "Now, we're ready to perform our SVD decomposition:"
   ]
  },
  {
   "cell_type": "code",
   "execution_count": 114,
   "metadata": {},
   "outputs": [],
   "source": [
    "U, Sigma, VT = randomized_svd(new_df.to_numpy(), \n",
    "                              n_components=3,\n",
    "                              n_iter=5,\n",
    "                              random_state=None)"
   ]
  },
  {
   "cell_type": "code",
   "execution_count": 25,
   "metadata": {},
   "outputs": [
    {
     "name": "stdout",
     "output_type": "stream",
     "text": [
      "Items similar to item 0: [4, 1, 3]\n"
     ]
    }
   ],
   "source": [
    "def get_item_recommendations(compare_item, df, num_recom):\n",
    "    recs = []\n",
    "    for item in range(df.T.shape[0]):\n",
    "        if item != compare_item:\n",
    "            recs.append((np.dot(df.T[compare_item],df.T[item]), item))\n",
    "    recs.sort(reverse = True)\n",
    "    final_rec = [recs[i][1] for i in range(num_recom)]\n",
    "    return final_rec\n",
    "\n",
    "item = 0\n",
    "print(f\"Items similar to item {item}: {get_item_recommendations(item,VT,3)}\")"
   ]
  },
  {
   "cell_type": "markdown",
   "metadata": {},
   "source": [
    "### Explained variance\n",
    "As one last thing to note, it's helpful to visualize what increasing the number of components you use in your SVD decomposition will get you. Let's plot how the addition of each additional component included in our SVD decomposition increases the percentage of explained variance. Note that if we use a full number of components (equal to the number of features) then we approach 100%."
   ]
  },
  {
   "cell_type": "code",
   "execution_count": 120,
   "metadata": {},
   "outputs": [
    {
     "data": {
      "image/png": "[encoded data removed]",
      "text/plain": [
       "<Figure size 432x288 with 1 Axes>"
      ]
     },
     "metadata": {
      "needs_background": "light"
     },
     "output_type": "display_data"
    }
   ],
   "source": [
    "svd = TruncatedSVD(n_components=4)\n",
    "svd_out = svd.fit_transform(df)\n",
    "\n",
    "plt.plot(np.cumsum(svd.explained_variance_ratio_), '.')\n",
    "plt.plot(np.cumsum(svd.explained_variance_ratio_))\n",
    "plt.xlabel('component number')\n",
    "plt.ylabel('Cummulated fraction of explained variance')\n",
    "plt.xticks(range(4));"
   ]
  },
  {
   "cell_type": "code",
   "execution_count": null,
   "metadata": {},
   "outputs": [],
   "source": []
  }
 ],
 "metadata": {
  "kernelspec": {
   "display_name": "Python 3 (ipykernel)",
   "language": "python",
   "name": "python3"
  },
  "language_info": {
   "codemirror_mode": {
    "name": "ipython",
    "version": 3
   },
   "file_extension": ".py",
   "mimetype": "text/x-python",
   "name": "python",
   "nbconvert_exporter": "python",
   "pygments_lexer": "ipython3",
   "version": "3.8.3"
  }
 },
 "nbformat": 4,
 "nbformat_minor": 2
}
