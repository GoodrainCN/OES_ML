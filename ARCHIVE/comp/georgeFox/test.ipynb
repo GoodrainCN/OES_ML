{
 "cells": [
  {
   "cell_type": "code",
   "execution_count": null,
   "metadata": {},
   "outputs": [],
   "source": [
    "print(\"\\033[32m 字体颜色：深黄色\\033[0m\")"
   ]
  },
  {
   "cell_type": "code",
   "execution_count": 6,
   "metadata": {},
   "outputs": [],
   "source": [
    "zhuan = '\\033[31m'+'赚'\n",
    "kui = \"\\033[32m 亏\\033[0m\"\n",
    "\n",
    "def upgrade():\n",
    "    import random\n",
    "    option = ['zhuan', 'kui']\n",
    "    count = 0\n",
    "    while True:\n",
    "        temp = random.choices(option, weights = [0.1, 0.9]) #people = amount of customers\n",
    "        count += 1\n",
    "        if temp[0] == 'zhuan':\n",
    "            return count\n",
    "        # elif temp[0] == 'kui':\n",
    "        #     print(kui)"
   ]
  },
  {
   "cell_type": "code",
   "execution_count": null,
   "metadata": {},
   "outputs": [],
   "source": [
    "def upgrade():\n",
    "    import random\n",
    "    option = ['zhuan', 'kui']\n",
    "    count = 0\n",
    "    while count<10:\n",
    "        temp = random.choices(option, weights = [0.1, 0.9]) #people = amount of customers\n",
    "        count += 1\n",
    "        if temp[0] == 'zhuan':\n",
    "            print(zhuan)\n",
    "        elif temp[0] == 'kui':\n",
    "            print(kui)"
   ]
  },
  {
   "cell_type": "code",
   "execution_count": null,
   "metadata": {},
   "outputs": [],
   "source": [
    "upgrade()"
   ]
  },
  {
   "cell_type": "code",
   "execution_count": 7,
   "metadata": {},
   "outputs": [
    {
     "name": "stdout",
     "output_type": "stream",
     "text": [
      "10.006720067200671\n"
     ]
    }
   ],
   "source": [
    "temp = []\n",
    "for i in range(99999):\n",
    "    result = upgrade()\n",
    "    #print(result)\n",
    "    temp.append(result)\n",
    "#print(temp)\n",
    "print(sum(temp)/len(temp))"
   ]
  },
  {
   "cell_type": "code",
   "execution_count": 1,
   "metadata": {},
   "outputs": [],
   "source": [
    "def is_prime(num):\n",
    "    result = True\n",
    "    if num < 2 or type(num) != int:\n",
    "        result = False\n",
    "        return result\n",
    "    else:\n",
    "        for i in range(2,num):\n",
    "            if num % i == 0:\n",
    "                result = False\n",
    "                result\n",
    "    return result"
   ]
  },
  {
   "cell_type": "code",
   "execution_count": 12,
   "metadata": {},
   "outputs": [
    {
     "data": {
      "text/plain": [
       "True"
      ]
     },
     "execution_count": 12,
     "metadata": {},
     "output_type": "execute_result"
    }
   ],
   "source": [
    "is_prime(7)"
   ]
  },
  {
   "cell_type": "code",
   "execution_count": 13,
   "metadata": {},
   "outputs": [],
   "source": [
    "def ispalin(x):\n",
    "    x = str(x)\n",
    "    first = 0\n",
    "    last = len(x)-1\n",
    "    status = 1\n",
    "    while first < last:\n",
    "        if x[first] == x[last]:\n",
    "            first+=1\n",
    "            last-=1\n",
    "        else:\n",
    "            status = 0\n",
    "            break\n",
    "    return int(status)"
   ]
  },
  {
   "cell_type": "code",
   "execution_count": 17,
   "metadata": {},
   "outputs": [
    {
     "data": {
      "text/plain": [
       "1"
      ]
     },
     "execution_count": 17,
     "metadata": {},
     "output_type": "execute_result"
    }
   ],
   "source": [
    "ispalin(6)"
   ]
  },
  {
   "cell_type": "code",
   "execution_count": 1,
   "metadata": {},
   "outputs": [
    {
     "name": "stdout",
     "output_type": "stream",
     "text": [
      "[0, 5]\n"
     ]
    }
   ],
   "source": [
    "num0 = 0\n",
    "num1 = 5\n",
    "center = [num0, num1]\n",
    "print(center)"
   ]
  },
  {
   "cell_type": "code",
   "execution_count": 16,
   "metadata": {},
   "outputs": [],
   "source": [
    "def is_alprime(num):\n",
    "    list0 = []\n",
    "    for i in range(1,num+1):\n",
    "        if num % i == 0:\n",
    "            list0.append(i)\n",
    "    if len(list0) == 3:\n",
    "        return True\n",
    "    else:\n",
    "        return False"
   ]
  },
  {
   "cell_type": "code",
   "execution_count": 20,
   "metadata": {},
   "outputs": [
    {
     "data": {
      "text/plain": [
       "True"
      ]
     },
     "execution_count": 20,
     "metadata": {},
     "output_type": "execute_result"
    }
   ],
   "source": [
    "is_alprime(289)"
   ]
  },
  {
   "cell_type": "code",
   "execution_count": 24,
   "metadata": {},
   "outputs": [
    {
     "data": {
      "text/plain": [
       "[4,\n",
       " 9,\n",
       " 25,\n",
       " 49,\n",
       " 121,\n",
       " 169,\n",
       " 289,\n",
       " 361,\n",
       " 529,\n",
       " 841,\n",
       " 961,\n",
       " 1369,\n",
       " 1681,\n",
       " 1849,\n",
       " 2209,\n",
       " 2809,\n",
       " 3481,\n",
       " 3721,\n",
       " 4489,\n",
       " 5041,\n",
       " 5329,\n",
       " 6241,\n",
       " 6889,\n",
       " 7921,\n",
       " 9409,\n",
       " 10201,\n",
       " 10609,\n",
       " 11449,\n",
       " 11881,\n",
       " 12769,\n",
       " 16129,\n",
       " 17161,\n",
       " 18769,\n",
       " 19321,\n",
       " 22201,\n",
       " 22801,\n",
       " 24649,\n",
       " 26569,\n",
       " 27889,\n",
       " 29929,\n",
       " 32041]"
      ]
     },
     "execution_count": 24,
     "metadata": {},
     "output_type": "execute_result"
    }
   ],
   "source": [
    "def is_alprime(num):\n",
    "    list0 = []\n",
    "    for i in range(1,num+1):\n",
    "        if num % i == 0:\n",
    "            list0.append(i)\n",
    "    if len(list0) == 3:\n",
    "        return True\n",
    "    else:\n",
    "        return False\n",
    "    \n",
    "num_list = []\n",
    "num = 0\n",
    "while len(num_list) < 41:\n",
    "    if is_alprime(num) == True:\n",
    "        num_list.append(num)\n",
    "    num += 1\n",
    "num_list"
   ]
  },
  {
   "cell_type": "code",
   "execution_count": 25,
   "metadata": {},
   "outputs": [
    {
     "name": "stdout",
     "output_type": "stream",
     "text": [
      "[4, 9, 25, 49, 121, 169, 289, 361, 529, 841, 961, 1369, 1681, 1849, 2209, 2809, 3481, 3721, 4489, 5041, 5329, 6241, 6889, 7921, 9409, 10201, 10609, 11449, 11881, 12769, 16129, 17161, 18769, 19321, 22201, 22801, 24649, 26569, 27889, 29929, 32041]\n"
     ]
    }
   ],
   "source": [
    "print(num_list)"
   ]
  },
  {
   "cell_type": "code",
   "execution_count": 114,
   "metadata": {},
   "outputs": [],
   "source": [
    "def dist(num):\n",
    "    \n",
    "    num_l = 0\n",
    "    num_m = 0\n",
    "    num_s = 0\n",
    "    \n",
    "    if num >= 4:\n",
    "        num_l = int(num/4)\n",
    "        res_p = num % 4\n",
    "        if res_p >= 2:\n",
    "            num_m = int(res_p/2)\n",
    "            res_p_ = res_p % 2\n",
    "            if res_p_ >= 1:\n",
    "                num_s = int(res_p_ / 1)\n",
    "        else:\n",
    "            num_s = int(res_p / 1)\n",
    "    elif num >= 2:\n",
    "        num_m = int(num/2)\n",
    "        res_p = num % 2\n",
    "        if res_p >= 1:\n",
    "            num_s = int(res_p / 1)\n",
    "    else:\n",
    "        num_s = int(num/1)\n",
    "    \n",
    "    str_l = \"\"\n",
    "    str_m = \"\"\n",
    "    str_s = \"\"\n",
    "    \n",
    "    # if num_l > 0 and num_m > 0:\n",
    "    #     str_l  = str(num_l) + \" large \"\n",
    "    # if num_l > 0 and num_s > 0:\n",
    "    #         str_l  = str(num_l) + \" large \"   \n",
    "    # if num_l > 0:\n",
    "    #     str_l  = str(num_l) + \" large\"\n",
    "    # if num_m > 0 and num_l > 0:\n",
    "    #     str_m = str(num_m) + \" medium \"\n",
    "    # if num_m > 0 and num_s > 0:\n",
    "    #     str_m = str(num_m) + \" medium \"\n",
    "    # if num_m > 0:\n",
    "    #     str_m = str(num_m) + \" medium \"\n",
    "    # if num_s > 0:\n",
    "    #     str_s = str(num_s) + \" small\"\n",
    "    \n",
    "    print(num_l, num_m, num_s)\n",
    "    \n",
    "    if num_l > 0:\n",
    "        str0 = str(num_l) + \" large\"\n",
    "        if num_m > 0:\n",
    "            str0 = str0 + \" \" + str(num_m) + \" medium\"\n",
    "            if num_s > 0:\n",
    "                str0 = str0 + \" \" + str(num_s) + \" small\"\n",
    "        elif num_s > 0:\n",
    "            str0 = str0 + \" \" + str(num_s) + \" small\"\n",
    "    elif num_m > 0:\n",
    "        str0 = str(num_m) + \" medium\"\n",
    "        if num_s > 0:\n",
    "            str0 = str0 + \" \" + str(num_s) + \" small\"\n",
    "    elif num_s > 0:\n",
    "        str0 = str(num_s) + \" small\"\n",
    "    \n",
    "    # str0 = str_l + str_m + str_s\n",
    "    \n",
    "    return str0\n",
    "\n",
    "# num = int(input())\n",
    "# nums = []\n",
    "# for i in range(num):\n",
    "#     nums.append(int(input()))\n",
    "# for num in nums:\n",
    "#     str0 = dist(num)\n",
    "#     print(str0)"
   ]
  },
  {
   "cell_type": "code",
   "execution_count": 124,
   "metadata": {},
   "outputs": [
    {
     "name": "stdout",
     "output_type": "stream",
     "text": [
      "1 0 1\n"
     ]
    },
    {
     "data": {
      "text/plain": [
       "'1 large 1 small'"
      ]
     },
     "execution_count": 124,
     "metadata": {},
     "output_type": "execute_result"
    }
   ],
   "source": [
    "dist(5)"
   ]
  },
  {
   "cell_type": "code",
   "execution_count": 108,
   "metadata": {},
   "outputs": [
    {
     "name": "stdout",
     "output_type": "stream",
     "text": [
      "1 small\n",
      "1 medium\n",
      "1 medium 1 small\n",
      "1 large\n",
      "5 large\n",
      "24 large 1 medium 1 small\n"
     ]
    }
   ],
   "source": [
    "def dist(num):\n",
    "    \n",
    "    num_l = 0\n",
    "    num_m = 0\n",
    "    num_s = 0\n",
    "    \n",
    "    if num >= 4:\n",
    "        num_l = int(num/4)\n",
    "        res_p = num % 4\n",
    "        if res_p >= 2:\n",
    "            num_m = int(res_p/2)\n",
    "            res_p_ = res_p % 2\n",
    "            if res_p_ >= 1:\n",
    "                num_s = int(res_p_ / 1)\n",
    "        else:\n",
    "            num_s = int(res_p / 1)\n",
    "    elif num >= 2:\n",
    "        num_m = int(num/2)\n",
    "        res_p = num % 2\n",
    "        if res_p >= 1:\n",
    "            num_s = int(res_p / 1)\n",
    "    else:\n",
    "        num_s = int(num/1)\n",
    "    \n",
    "    # str_l = \"\"\n",
    "    # str_m = \"\"\n",
    "    # str_s = \"\"\n",
    "    \n",
    "    # if num_l > 0 and num_m > 0:\n",
    "    #     str_l  = str(num_l) + \" large \"\n",
    "    # if num_l > 0 and num_s > 0:\n",
    "    #         str_l  = str(num_l) + \" large \"   \n",
    "    # if num_l > 0:\n",
    "    #     str_l  = str(num_l) + \" large\"\n",
    "    # if num_m > 0 and num_l > 0:\n",
    "    #     str_m = str(num_m) + \" medium \"\n",
    "    # if num_m > 0 and num_s > 0:\n",
    "    #     str_m = str(num_m) + \" medium \"\n",
    "    # if num_m > 0:\n",
    "    #     str_m = str(num_m) + \" medium \"\n",
    "    # if num_s > 0:\n",
    "    #     str_s = str(num_s) + \" small\"\n",
    "    \n",
    "    # print(num_l, num_m, num_s)\n",
    "    \n",
    "    if num_l > 0:\n",
    "        str0 = str(num_l) + \" large\"\n",
    "        if num_m > 0:\n",
    "            str0 = str0 + \" \" + str(num_m) + \" medium\"\n",
    "            if num_s > 0:\n",
    "                str0 = str0 + \" \" + str(num_s) + \" small\"\n",
    "    elif num_m > 0:\n",
    "        str0 = str(num_m) + \" medium\"\n",
    "        if num_s > 0:\n",
    "            str0 = str0 + \" \" + str(num_s) + \" small\"\n",
    "    elif num_s > 0:\n",
    "        str0 = str(num_s) + \" small\"\n",
    "    \n",
    "    # str0 = str_l + str_m + str_s\n",
    "    \n",
    "    return str0\n",
    "\n",
    "num = int(input())\n",
    "nums = []\n",
    "for i in range(num):\n",
    "    nums.append(int(input()))\n",
    "for num in nums:\n",
    "    str0 = dist(num)\n",
    "    print(str0)"
   ]
  },
  {
   "cell_type": "code",
   "execution_count": 128,
   "metadata": {},
   "outputs": [
    {
     "data": {
      "text/plain": [
       "['as',\n",
       " 'at',\n",
       " 'aft',\n",
       " 'and',\n",
       " 'ant',\n",
       " 'apps',\n",
       " 'amble',\n",
       " 'ample',\n",
       " 'apple',\n",
       " 'applet',\n",
       " 'be',\n",
       " 'bean',\n",
       " 'beat',\n",
       " 'bend',\n",
       " 'bump',\n",
       " 'bunt',\n",
       " 'bust',\n",
       " 'butte',\n",
       " 'battle',\n",
       " 'before']"
      ]
     },
     "execution_count": 128,
     "metadata": {},
     "output_type": "execute_result"
    }
   ],
   "source": [
    "data = []\n",
    "for i in range(2):\n",
    "    line = input()\n",
    "    line = line.split()\n",
    "    data = data + line\n",
    "data"
   ]
  },
  {
   "cell_type": "code",
   "execution_count": 168,
   "metadata": {},
   "outputs": [
    {
     "name": "stdout",
     "output_type": "stream",
     "text": [
      "as at \n",
      "NO MATCH\n",
      "zap zen zip zit \n",
      "amble ample apple \n",
      "fend font \n",
      "beat bunt bust east font gust host port post punt soot sort toot tort \n"
     ]
    }
   ],
   "source": [
    "data = ['as', 'at', 'aft', 'and', 'ant', 'apps', 'amble', 'ample', 'apple', 'applet', 'be', 'bean', 'beat', 'bend', 'bump', 'bunt', 'bust', 'butte', 'battle', 'before', 'ebb', 'end', 'eon', 'east', 'ends', 'ever', 'eves', 'either', 'esters', 'eastern', 'fen', 'fro', 'fun', 'fend', 'fern', 'from', 'font', 'fuzz', 'fonts', 'front', 'gin', 'gun', 'gut', 'gins', 'guns', 'gust', 'guts', 'gusty', 'gutsy', 'goner', 'hat', 'hit', 'hot', 'hut', 'hats', 'hits', 'host', 'huts', 'horses', 'hotter', 'pen', 'pin', 'pun', 'port', 'post', 'pots', 'punt', 'porter', 'potter', 'punter', 'sap', 'sip', 'sop', 'saps', 'sips', 'sops', 'soot', 'sort', 'scoot', 'skirt', 'tap', 'tip', 'top', 'taps', 'tips', 'tops', 'toot', 'tort', 'trips', 'troop', 'zap', 'zen', 'zip', 'zit', 'zaps', 'zips', 'zits', 'zebra', 'zebras', 'zipper']\n",
    "check_list = ['a*', 'z*', 'z**', 'a**le', 'f*n*', '***t']\n",
    "\n",
    "def get_index(word0):\n",
    "    count = 0\n",
    "    index_list = []\n",
    "    # for i in range(len(word0)):\n",
    "    #     index_list.append(i)\n",
    "    for letter in word0:\n",
    "        if letter != \"*\":\n",
    "            index_list.append(count)\n",
    "        count += 1\n",
    "    return index_list\n",
    "\n",
    "\n",
    "def check(word0, word1):\n",
    "    if len(word0) != len(word1):\n",
    "        return False\n",
    "    index0 = get_index(word0)\n",
    "    letter_list0 = []\n",
    "    letter_list1 = []\n",
    "    for index in index0:\n",
    "        letter_list0.append(word0[index])\n",
    "        letter_list1.append(word1[index])\n",
    "    if letter_list0 == letter_list1:\n",
    "        return True\n",
    "    else:\n",
    "        return False\n",
    "\n",
    "result = []\n",
    "\n",
    "for word in check_list:\n",
    "    temp = []\n",
    "    for item in data:\n",
    "        if check(word, item) == True:\n",
    "            temp.append(item)\n",
    "    result.append(temp)\n",
    "# print(result)\n",
    "\n",
    "for i in result:\n",
    "    if len(i) == 0:\n",
    "        print(\"NO MATCH\")\n",
    "        continue\n",
    "    for j in i:\n",
    "        print(j,end=\" \")\n",
    "    print()"
   ]
  },
  {
   "cell_type": "code",
   "execution_count": 137,
   "metadata": {},
   "outputs": [
    {
     "data": {
      "text/plain": [
       "[0, 3, 4]"
      ]
     },
     "execution_count": 137,
     "metadata": {},
     "output_type": "execute_result"
    }
   ],
   "source": [
    "get_index('a**le')"
   ]
  },
  {
   "cell_type": "code",
   "execution_count": 141,
   "metadata": {},
   "outputs": [
    {
     "data": {
      "text/plain": [
       "'Yes'"
      ]
     },
     "execution_count": 141,
     "metadata": {},
     "output_type": "execute_result"
    }
   ],
   "source": [
    "check('a**le', 'amble')"
   ]
  },
  {
   "cell_type": "code",
   "execution_count": 205,
   "metadata": {},
   "outputs": [
    {
     "name": "stdout",
     "output_type": "stream",
     "text": [
      "['h', 'he', 'li', 'be', 'b', 'c', 'n', 'o', 'f', 'ne', 'na', 'mg', 'al', 'si', 'p', 's', 'cl', 'ar', 'k', 'ca', 'sc', 'ti', 'v', 'cr', 'mn', 'fe', 'co', 'ni', 'cu', 'zn', 'ga', 'ge', 'as', 'se', 'br', 'kr', 'rb', 'sr', 'y', 'zr', 'nb', 'mo', 'tc', 'ru', 'rh', 'pd', 'ag', 'cd', 'in', 'sn', 'sb', 'te', 'i', 'xe', 'cs', 'ba', 'la', 'ce', 'pr', 'nd', 'pm', 'sm', 'eu', 'gd', 'tb', 'dy', 'ho', 'er', 'tm', 'yb', 'lu', 'hf', 'ta', 'w', 're', 'os', 'ir', 'pt', 'au', 'hg', 'tl', 'pb', 'bi', 'po', 'at', 'rn', 'fr', 'ra', 'ac', 'th', 'pa', 'u', 'np', 'pu', 'am', 'cm', 'bk', 'cf', 'es', 'fm']\n",
      "yes\n"
     ]
    }
   ],
   "source": [
    "data = ['H', 'He', 'Li', 'Be', 'B', 'C', 'N', 'O', 'F', 'Ne', 'Na', 'Mg', 'Al', 'Si', 'P', 'S', 'Cl', 'Ar', 'K', 'Ca', 'Sc', 'Ti', 'V', 'Cr', 'Mn', 'Fe', 'Co', 'Ni', 'Cu', 'Zn', 'Ga', 'Ge', 'As', 'Se', 'Br', 'Kr', 'Rb', 'Sr', 'Y', 'Zr', 'Nb', 'Mo', 'Tc', 'Ru', 'Rh', 'Pd', 'Ag', 'Cd', 'In', 'Sn', 'Sb', 'Te', 'I', 'Xe', 'Cs', 'Ba', 'La', 'Ce', 'Pr', 'Nd', 'Pm', 'Sm', 'Eu', 'Gd', 'Tb', 'Dy', 'Ho', 'Er', 'Tm', 'Yb', 'Lu', 'Hf', 'Ta', 'W', 'Re', 'Os', 'Ir', 'Pt', 'Au', 'Hg', 'Tl', 'Pb', 'Bi', 'Po', 'At', 'Rn', 'Fr', 'Ra', 'Ac', 'Th', 'Pa', 'U', 'Np', 'Pu', 'Am', 'Cm', 'Bk', 'Cf', 'Es', 'Fm']\n",
    "new_data = []\n",
    "for i in data:\n",
    "    new_data.append(i.lower())\n",
    "print(new_data)\n",
    "if (\"b\" in new_data):\n",
    "    print(\"yes\")"
   ]
  },
  {
   "cell_type": "code",
   "execution_count": 185,
   "metadata": {},
   "outputs": [],
   "source": [
    "list0 = ['chocolate', 'rose', 'bananas', 'champions', 'north', 'south', 'uil', 'ladygaga', 'xenophobe']\n",
    "test = list0[0]"
   ]
  },
  {
   "cell_type": "code",
   "execution_count": 215,
   "metadata": {},
   "outputs": [],
   "source": [
    "def get_index(word0):\n",
    "    word0 = str(word0)\n",
    "    index_list = []\n",
    "    count = 0\n",
    "    for letter in word0:\n",
    "        if letter not in new_data:\n",
    "            index_list.append(count)\n",
    "        count += 1\n",
    "    return index_list\n",
    "\n",
    "\n",
    "def check_word(word0):\n",
    "    index_list = get_index(word0)\n",
    "    word0 = str(word0)\n",
    "    for i in index_list:\n",
    "        if i != 0 and i != len(word0) - 1:\n",
    "            if word0[i-1:i+1] in new_data or word0[i:i+2] in new_data:\n",
    "                print(\"1Yes\")\n",
    "            else:\n",
    "                print(\"1No\")\n",
    "        elif i == 0:\n",
    "            if word0[i:i+2] in new_data:\n",
    "                print(\"2Yes\")\n",
    "            else:\n",
    "                print(\"2No\")\n",
    "        elif i == len(word0) - 1:\n",
    "            if word0[i-1:i+1] in new_data:\n",
    "                print(\"3Yes\")\n",
    "            else:\n",
    "                print(\"3No\")\n",
    "    pass"
   ]
  },
  {
   "cell_type": "code",
   "execution_count": 231,
   "metadata": {},
   "outputs": [],
   "source": [
    "def get_index(word0):\n",
    "    word0 = str(word0)\n",
    "    index_list = []\n",
    "    count = 0\n",
    "    for letter in word0:\n",
    "        if letter not in new_data:\n",
    "            index_list.append(count)\n",
    "        count += 1\n",
    "    return index_list\n",
    "\n",
    "\n",
    "def check_word(word0):\n",
    "    result = \"yes\"\n",
    "    index_list = get_index(word0)\n",
    "    word0 = str(word0)\n",
    "    for i in index_list:\n",
    "        if i != 0 and i != len(word0) - 1:\n",
    "            if word0[i-1:i+1] in new_data or word0[i:i+2] in new_data:\n",
    "                pass\n",
    "            else:\n",
    "                result = \"no\"\n",
    "                return result\n",
    "        elif i == 0:\n",
    "            if word0[i:i+2] in new_data:\n",
    "                pass\n",
    "            else:\n",
    "                result = \"no\"\n",
    "                return result\n",
    "        elif i == len(word0) - 1:\n",
    "            if word0[i-1:i+1] in new_data:\n",
    "                pass\n",
    "            else:\n",
    "                result = \"no\"\n",
    "                return result\n",
    "    return result"
   ]
  },
  {
   "cell_type": "code",
   "execution_count": 214,
   "metadata": {},
   "outputs": [
    {
     "data": {
      "text/plain": [
       "'an'"
      ]
     },
     "execution_count": 214,
     "metadata": {},
     "output_type": "execute_result"
    }
   ],
   "source": [
    "test = 'bananas'\n",
    "test[1:3]"
   ]
  },
  {
   "cell_type": "code",
   "execution_count": 232,
   "metadata": {},
   "outputs": [
    {
     "data": {
      "text/plain": [
       "'yes'"
      ]
     },
     "execution_count": 232,
     "metadata": {},
     "output_type": "execute_result"
    }
   ],
   "source": [
    "check_word('chocolate')"
   ]
  },
  {
   "cell_type": "code",
   "execution_count": 222,
   "metadata": {},
   "outputs": [
    {
     "data": {
      "text/plain": [
       "[0, 1, 2, 4, 5, 6, 7]"
      ]
     },
     "execution_count": 222,
     "metadata": {},
     "output_type": "execute_result"
    }
   ],
   "source": [
    "get_index('ladygaga')"
   ]
  },
  {
   "cell_type": "code",
   "execution_count": null,
   "metadata": {},
   "outputs": [],
   "source": [
    "num = int(input())\n",
    "data = []\n",
    "for i in range(num):\n",
    "    data.append(input())\n",
    "print(data)"
   ]
  },
  {
   "cell_type": "code",
   "execution_count": 279,
   "metadata": {},
   "outputs": [
    {
     "name": "stdout",
     "output_type": "stream",
     "text": [
      "ALIVE 27%\n",
      "MOUNTAIN LION 33%\n",
      "BEAR 20%\n",
      "NATURAL CAUSES 13%\n",
      "COYOTE 7%\n"
     ]
    }
   ],
   "source": [
    "data = ['A001 NEW', 'A002 NEW', 'A001 OK', 'A003 NEW', 'A003 DEAD - NATURAL CAUSES', 'A004 NEW', 'A002 OK', 'A001 OK', 'A005 NEW', 'A006 NEW', 'A007 NEW', 'A008 NEW', 'A009 NEW', 'A010 NEW', 'A011 NEW', 'A012 NEW', 'A013 NEW', 'A014 NEW', 'A015 NEW', 'A014 OK', 'A014 OK', 'A014 OK', 'A002 DEAD - NATURAL CAUSES', 'A015 DEAD - COYOTE', 'A014 DEAD - BEAR', 'A013 DEAD - BEAR', 'A012 DEAD - BEAR', 'A011 DEAD - MOUNTAIN LION', 'A010 DEAD - MOUNTAIN LION', 'A009 DEAD - MOUNTAIN LION', 'A008 DEAD - MOUNTAIN LION', 'A007 DEAD - MOUNTAIN LION']\n",
    "cleaned = {}\n",
    "index_list = []\n",
    "status = []\n",
    "for item in data:\n",
    "    #index_list.append(item.split()[0])\n",
    "    temp = item.split()\n",
    "    cleaned[temp[0]] = temp[1::]\n",
    "    \n",
    "leng = len(cleaned)\n",
    "    #print(item.split())#\n",
    "#print(index_list)\n",
    "#leng = set(index_list)\n",
    "num_d = 0\n",
    "num_l = 0\n",
    "num_b = 0\n",
    "num_n = 0\n",
    "num_c = 0\n",
    "\n",
    "for key in cleaned:\n",
    "    if cleaned[key][0] == \"DEAD\":\n",
    "        num_d += 1\n",
    "        # print(cleaned[key])\n",
    "        if cleaned[key][2] == 'NATURAL':\n",
    "            num_n += 1\n",
    "        elif cleaned[key][2] == 'MOUNTAIN':\n",
    "            num_l += 1\n",
    "        elif cleaned[key][2] == 'BEAR':\n",
    "            num_b += 1\n",
    "        elif cleaned[key][2] == 'COYOTE':\n",
    "            num_c += 1\n",
    "    \n",
    "perc_sur = round(((leng - num_d) / leng)*100)\n",
    "perc_lion = round((num_l / leng) * 100)\n",
    "perc_bear = round((num_b / leng) * 100)\n",
    "perc_coy = round((num_c / leng) * 100)\n",
    "perc_nat = round((num_n / leng) * 100)\n",
    "\n",
    "dict1 = {\n",
    "    \"MOUNTAIN LION\": perc_lion,\n",
    "    \"NATURAL CAUSES\": perc_nat,\n",
    "    \"COYOTE\" : perc_coy,\n",
    "    \"BEAR\" : perc_bear\n",
    "}\n",
    "sorted_values = dict1.values()# Sort the values\n",
    "sorted_dict = {}\n",
    "\n",
    "sorted_d = sorted(dict1.items(), \n",
    "\t\t\t\t\t\t\t\tkey=lambda x: x[1], reverse=True)\n",
    "\n",
    "\n",
    "\n",
    "print(\"ALIVE\"+\" \"+str(perc_sur)+\"%\")\n",
    "for term in sorted_d:\n",
    "    print(term[0]+\" \"+str(term[1])+\"%\")\n",
    "    # print(term[0]+\" \"+str(term[1]+\"%\"))\n",
    "    # print(term[0]+\" \"+str(term[1]+\"%\"))\n",
    "    # print(term[0]+\" \"+str(term[1]+\"%\"))\n",
    "# print(\"MOUNTAIN LION\"+\" \"+str(perc_lion)+\"%\")\n",
    "# print(\"BEAR\"+\" \"+str(perc_bear)+\"%\")\n",
    "# print(\"NATURAL CAUSES\"+\" \"+str(perc_nat)+\"%\")\n",
    "# print(\"COYOTE\"+\" \"+str(perc_coy)+\"%\")"
   ]
  },
  {
   "cell_type": "code",
   "execution_count": 267,
   "metadata": {},
   "outputs": [
    {
     "name": "stdout",
     "output_type": "stream",
     "text": [
      "{1: 1, 3: 4, 2: 9}\n"
     ]
    }
   ],
   "source": [
    "dict1 = {1: 1, 2: 9, 3: 4}\n",
    "sorted_values = sorted(dict1.values()) # Sort the values\n",
    "sorted_dict = {}\n",
    "\n",
    "for i in sorted_values:\n",
    "    for k in dict1.keys():\n",
    "        if dict1[k] == i:\n",
    "            sorted_dict[k] = dict1[k]\n",
    "            break\n",
    "\n",
    "print(sorted_dict)"
   ]
  },
  {
   "cell_type": "code",
   "execution_count": 238,
   "metadata": {},
   "outputs": [
    {
     "name": "stdout",
     "output_type": "stream",
     "text": [
      "15\n"
     ]
    }
   ],
   "source": [
    "test = set(index_list)\n",
    "print(len(test))"
   ]
  },
  {
   "cell_type": "code",
   "execution_count": null,
   "metadata": {},
   "outputs": [],
   "source": []
  }
 ],
 "metadata": {
  "interpreter": {
   "hash": "fd480433b0168f0b96e5ec847e914a92fdec64b0a6a89ef8313bf2e63f32d212"
  },
  "kernelspec": {
   "display_name": "Python 3.9.7 ('pyc')",
   "language": "python",
   "name": "python3"
  },
  "language_info": {
   "codemirror_mode": {
    "name": "ipython",
    "version": 3
   },
   "file_extension": ".py",
   "mimetype": "text/x-python",
   "name": "python",
   "nbconvert_exporter": "python",
   "pygments_lexer": "ipython3",
   "version": "3.9.7"
  },
  "orig_nbformat": 4
 },
 "nbformat": 4,
 "nbformat_minor": 2
}
