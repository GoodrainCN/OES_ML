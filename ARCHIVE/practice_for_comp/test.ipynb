{
 "cells": [
  {
   "cell_type": "code",
   "execution_count": null,
   "metadata": {},
   "outputs": [],
   "source": [
    "print(\"\\033[32m 字体颜色：深黄色\\033[0m\")"
   ]
  },
  {
   "cell_type": "code",
   "execution_count": 8,
   "metadata": {},
   "outputs": [],
   "source": [
    "zhuan = '\\033[31m'+'赚'\n",
    "kui = \"\\033[32m 亏\\033[0m\"\n",
    "\n",
    "def upgrade():\n",
    "    import random\n",
    "    option = ['zhuan', 'kui']\n",
    "    count = 0\n",
    "    while True:\n",
    "        temp = random.choices(option, weights = [0.1, 0.9]) #people = amount of customers\n",
    "        count += 1\n",
    "        if temp[0] == 'zhuan':\n",
    "            return count\n",
    "        # elif temp[0] == 'kui':\n",
    "        #     print(kui)"
   ]
  },
  {
   "cell_type": "code",
   "execution_count": 10,
   "metadata": {},
   "outputs": [],
   "source": [
    "def upgrade():\n",
    "    import random\n",
    "    option = ['zhuan', 'kui']\n",
    "    count = 0\n",
    "    while count<10:\n",
    "        temp = random.choices(option, weights = [0.1, 0.9]) #people = amount of customers\n",
    "        count += 1\n",
    "        if temp[0] == 'zhuan':\n",
    "            print(zhuan)\n",
    "        elif temp[0] == 'kui':\n",
    "            print(kui)"
   ]
  },
  {
   "cell_type": "code",
   "execution_count": 15,
   "metadata": {},
   "outputs": [
    {
     "name": "stdout",
     "output_type": "stream",
     "text": [
      "\u001b[32m 亏\u001b[0m\n",
      "\u001b[31m赚\n",
      "\u001b[32m 亏\u001b[0m\n",
      "\u001b[32m 亏\u001b[0m\n",
      "\u001b[32m 亏\u001b[0m\n",
      "\u001b[31m赚\n",
      "\u001b[32m 亏\u001b[0m\n",
      "\u001b[32m 亏\u001b[0m\n",
      "\u001b[32m 亏\u001b[0m\n",
      "\u001b[31m赚\n"
     ]
    }
   ],
   "source": [
    "upgrade()"
   ]
  },
  {
   "cell_type": "code",
   "execution_count": 7,
   "metadata": {},
   "outputs": [
    {
     "name": "stdout",
     "output_type": "stream",
     "text": [
      "10.006720067200671\n"
     ]
    }
   ],
   "source": [
    "\n",
    "][ptemp = []\n",
    "for i in range(99999):\n",
    "    result = upgrade()\n",
    "    #print(result)\n",
    "    temp.append(result)\n",
    "#print(temp)\n",
    "print(sum(temp)/len(temp))"
   ]
  },
  {
   "cell_type": "code",
   "execution_count": 1,
   "metadata": {},
   "outputs": [],
   "source": [
    "def is_prime(num):\n",
    "    result = True\n",
    "    if num < 2 or type(num) != int:\n",
    "        result = False\n",
    "        return result\n",
    "    else:\n",
    "        for i in range(2,num):\n",
    "            if num % i == 0:\n",
    "                result = False\n",
    "                result\n",
    "    return result"
   ]
  },
  {
   "cell_type": "code",
   "execution_count": 12,
   "metadata": {},
   "outputs": [
    {
     "data": {
      "text/plain": [
       "True"
      ]
     },
     "execution_count": 12,
     "metadata": {},
     "output_type": "execute_result"
    }
   ],
   "source": [
    "is_prime(7)"
   ]
  },
  {
   "cell_type": "code",
   "execution_count": 13,
   "metadata": {},
   "outputs": [],
   "source": [
    "def ispalin(x):\n",
    "    x = str(x)\n",
    "    first = 0\n",
    "    last = len(x)-1\n",
    "    status = 1\n",
    "    while first < last:\n",
    "        if x[first] == x[last]:\n",
    "            first+=1\n",
    "            last-=1\n",
    "        else:\n",
    "            status = 0\n",
    "            break\n",
    "    return int(status)"
   ]
  },
  {
   "cell_type": "code",
   "execution_count": 17,
   "metadata": {},
   "outputs": [
    {
     "data": {
      "text/plain": [
       "1"
      ]
     },
     "execution_count": 17,
     "metadata": {},
     "output_type": "execute_result"
    }
   ],
   "source": [
    "ispalin(6)"
   ]
  },
  {
   "cell_type": "code",
   "execution_count": 16,
   "metadata": {},
   "outputs": [
    {
     "name": "stdout",
     "output_type": "stream",
     "text": [
      "True\n",
      "True\n",
      "True\n",
      "True\n",
      "True\n",
      "True\n",
      "True\n",
      "True\n",
      "True\n",
      "True\n",
      "True\n",
      "True\n"
     ]
    }
   ],
   "source": [
    "x = 10\n",
    "y = 20\n",
    "leng = 50\n",
    "r = 5\n",
    "x_center = x + leng/2\n",
    "y_center = y + leng/2\n",
    "list0 = []\n",
    "for i in range(x,x+leng):\n",
    "    for n in range(y,y+leng):\n",
    "        list0.append([i,n])\n",
    "for pos in list0:\n",
    "    temp = (pos[0] - x_center)**2 + (pos[1] - y_center)**2\n",
    "    if temp == r**2:\n",
    "        print(True)"
   ]
  }
 ],
 "metadata": {
  "interpreter": {
   "hash": "fd480433b0168f0b96e5ec847e914a92fdec64b0a6a89ef8313bf2e63f32d212"
  },
  "kernelspec": {
   "display_name": "Python 3.9.7 ('pyc')",
   "language": "python",
   "name": "python3"
  },
  "language_info": {
   "codemirror_mode": {
    "name": "ipython",
    "version": 3
   },
   "file_extension": ".py",
   "mimetype": "text/x-python",
   "name": "python",
   "nbconvert_exporter": "python",
   "pygments_lexer": "ipython3",
   "version": "3.9.7"
  },
  "orig_nbformat": 4
 },
 "nbformat": 4,
 "nbformat_minor": 2
}
