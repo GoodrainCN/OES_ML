{
 "cells": [
  {
   "cell_type": "markdown",
   "metadata": {
    "collapsed": false
   },
   "source": [
    "Run the following code to import the required packages:"
   ]
  },
  {
   "cell_type": "code",
   "execution_count": 1,
   "metadata": {
    "collapsed": false
   },
   "outputs": [],
   "source": [
    "import pandas as pd\n",
    "import numpy as np\n",
    "import seaborn as sns\n",
    "from sklearn.linear_model import LinearRegression\n",
    "from sklearn.linear_model import Ridge\n",
    "from sklearn.ensemble import GradientBoostingRegressor\n",
    "%matplotlib inline"
   ]
  },
  {
   "cell_type": "markdown",
   "metadata": {
    "collapsed": false
   },
   "source": [
    "### Feature Selection\n",
    "In our previous case, there was only one independent variable. If there is more than one, we might use multiple linear regression."
   ]
  },
  {
   "cell_type": "markdown",
   "metadata": {
    "collapsed": false
   },
   "source": [
    "We will use this [simple survey data](https://stats.idre.ucla.edu/wp-content/uploads/2016/02/p054.txt) to demonstrate a few basic features of ***seaborn*** and how it might be used for regression.\n",
    "\n",
    "The dataset is simply the results of a survey where the question responses are all numeric.  This leads to 6 numeric independent variable (predictor) fields and 1 numeric dependent variable (response) field.  The predictors are labeled ***X<sub>i</sub>*** and the response is labeled ***Y***.\n",
    "\n",
    "Let's load the dataset in using ***pandas*** and take a look at it."
   ]
  },
  {
   "cell_type": "code",
   "execution_count": 2,
   "metadata": {
    "collapsed": false
   },
   "outputs": [
    {
     "data": {
      "text/html": [
       "<div>\n",
       "<style scoped>\n",
       "    .dataframe tbody tr th:only-of-type {\n",
       "        vertical-align: middle;\n",
       "    }\n",
       "\n",
       "    .dataframe tbody tr th {\n",
       "        vertical-align: top;\n",
       "    }\n",
       "\n",
       "    .dataframe thead th {\n",
       "        text-align: right;\n",
       "    }\n",
       "</style>\n",
       "<table border=\"1\" class=\"dataframe\">\n",
       "  <thead>\n",
       "    <tr style=\"text-align: right;\">\n",
       "      <th></th>\n",
       "      <th>Y</th>\n",
       "      <th>X1</th>\n",
       "      <th>X2</th>\n",
       "      <th>X3</th>\n",
       "      <th>X4</th>\n",
       "      <th>X5</th>\n",
       "      <th>X6</th>\n",
       "    </tr>\n",
       "  </thead>\n",
       "  <tbody>\n",
       "    <tr>\n",
       "      <th>0</th>\n",
       "      <td>43</td>\n",
       "      <td>51</td>\n",
       "      <td>30</td>\n",
       "      <td>39</td>\n",
       "      <td>61</td>\n",
       "      <td>92</td>\n",
       "      <td>45</td>\n",
       "    </tr>\n",
       "    <tr>\n",
       "      <th>1</th>\n",
       "      <td>63</td>\n",
       "      <td>64</td>\n",
       "      <td>51</td>\n",
       "      <td>54</td>\n",
       "      <td>63</td>\n",
       "      <td>73</td>\n",
       "      <td>47</td>\n",
       "    </tr>\n",
       "    <tr>\n",
       "      <th>2</th>\n",
       "      <td>71</td>\n",
       "      <td>70</td>\n",
       "      <td>68</td>\n",
       "      <td>69</td>\n",
       "      <td>76</td>\n",
       "      <td>86</td>\n",
       "      <td>48</td>\n",
       "    </tr>\n",
       "    <tr>\n",
       "      <th>3</th>\n",
       "      <td>61</td>\n",
       "      <td>63</td>\n",
       "      <td>45</td>\n",
       "      <td>47</td>\n",
       "      <td>54</td>\n",
       "      <td>84</td>\n",
       "      <td>35</td>\n",
       "    </tr>\n",
       "    <tr>\n",
       "      <th>4</th>\n",
       "      <td>81</td>\n",
       "      <td>78</td>\n",
       "      <td>56</td>\n",
       "      <td>66</td>\n",
       "      <td>71</td>\n",
       "      <td>83</td>\n",
       "      <td>47</td>\n",
       "    </tr>\n",
       "  </tbody>\n",
       "</table>\n",
       "</div>"
      ],
      "text/plain": [
       "    Y  X1  X2  X3  X4  X5  X6\n",
       "0  43  51  30  39  61  92  45\n",
       "1  63  64  51  54  63  73  47\n",
       "2  71  70  68  69  76  86  48\n",
       "3  61  63  45  47  54  84  35\n",
       "4  81  78  56  66  71  83  47"
      ]
     },
     "execution_count": 2,
     "metadata": {},
     "output_type": "execute_result"
    }
   ],
   "source": [
    "# Load the data in\n",
    "df = pd.read_csv('https://stats.idre.ucla.edu/wp-content/uploads/2016/02/p054.txt', sep=\"\\t\")\n",
    "df.columns = df.columns.str.strip()\n",
    "df.head()"
   ]
  },
  {
   "cell_type": "markdown",
   "metadata": {
    "collapsed": false
   },
   "source": [
    "We see that the data has 30 responses with 7 fields (6 independent, 1 dependent) each. Let's use pandas to check out the correlations between the different variables."
   ]
  },
  {
   "cell_type": "code",
   "execution_count": 3,
   "metadata": {
    "collapsed": false
   },
   "outputs": [
    {
     "data": {
      "text/html": [
       "<div>\n",
       "<style scoped>\n",
       "    .dataframe tbody tr th:only-of-type {\n",
       "        vertical-align: middle;\n",
       "    }\n",
       "\n",
       "    .dataframe tbody tr th {\n",
       "        vertical-align: top;\n",
       "    }\n",
       "\n",
       "    .dataframe thead th {\n",
       "        text-align: right;\n",
       "    }\n",
       "</style>\n",
       "<table border=\"1\" class=\"dataframe\">\n",
       "  <thead>\n",
       "    <tr style=\"text-align: right;\">\n",
       "      <th></th>\n",
       "      <th>Y</th>\n",
       "      <th>X1</th>\n",
       "      <th>X2</th>\n",
       "      <th>X3</th>\n",
       "      <th>X4</th>\n",
       "      <th>X5</th>\n",
       "      <th>X6</th>\n",
       "    </tr>\n",
       "  </thead>\n",
       "  <tbody>\n",
       "    <tr>\n",
       "      <th>Y</th>\n",
       "      <td>1.000000</td>\n",
       "      <td>0.825418</td>\n",
       "      <td>0.426117</td>\n",
       "      <td>0.623678</td>\n",
       "      <td>0.590139</td>\n",
       "      <td>0.156439</td>\n",
       "      <td>0.155086</td>\n",
       "    </tr>\n",
       "    <tr>\n",
       "      <th>X1</th>\n",
       "      <td>0.825418</td>\n",
       "      <td>1.000000</td>\n",
       "      <td>0.558288</td>\n",
       "      <td>0.596736</td>\n",
       "      <td>0.669197</td>\n",
       "      <td>0.187714</td>\n",
       "      <td>0.224580</td>\n",
       "    </tr>\n",
       "    <tr>\n",
       "      <th>X2</th>\n",
       "      <td>0.426117</td>\n",
       "      <td>0.558288</td>\n",
       "      <td>1.000000</td>\n",
       "      <td>0.493331</td>\n",
       "      <td>0.445478</td>\n",
       "      <td>0.147233</td>\n",
       "      <td>0.343293</td>\n",
       "    </tr>\n",
       "    <tr>\n",
       "      <th>X3</th>\n",
       "      <td>0.623678</td>\n",
       "      <td>0.596736</td>\n",
       "      <td>0.493331</td>\n",
       "      <td>1.000000</td>\n",
       "      <td>0.640314</td>\n",
       "      <td>0.115965</td>\n",
       "      <td>0.531620</td>\n",
       "    </tr>\n",
       "    <tr>\n",
       "      <th>X4</th>\n",
       "      <td>0.590139</td>\n",
       "      <td>0.669197</td>\n",
       "      <td>0.445478</td>\n",
       "      <td>0.640314</td>\n",
       "      <td>1.000000</td>\n",
       "      <td>0.376883</td>\n",
       "      <td>0.574186</td>\n",
       "    </tr>\n",
       "    <tr>\n",
       "      <th>X5</th>\n",
       "      <td>0.156439</td>\n",
       "      <td>0.187714</td>\n",
       "      <td>0.147233</td>\n",
       "      <td>0.115965</td>\n",
       "      <td>0.376883</td>\n",
       "      <td>1.000000</td>\n",
       "      <td>0.283343</td>\n",
       "    </tr>\n",
       "    <tr>\n",
       "      <th>X6</th>\n",
       "      <td>0.155086</td>\n",
       "      <td>0.224580</td>\n",
       "      <td>0.343293</td>\n",
       "      <td>0.531620</td>\n",
       "      <td>0.574186</td>\n",
       "      <td>0.283343</td>\n",
       "      <td>1.000000</td>\n",
       "    </tr>\n",
       "  </tbody>\n",
       "</table>\n",
       "</div>"
      ],
      "text/plain": [
       "           Y        X1        X2        X3        X4        X5        X6\n",
       "Y   1.000000  0.825418  0.426117  0.623678  0.590139  0.156439  0.155086\n",
       "X1  0.825418  1.000000  0.558288  0.596736  0.669197  0.187714  0.224580\n",
       "X2  0.426117  0.558288  1.000000  0.493331  0.445478  0.147233  0.343293\n",
       "X3  0.623678  0.596736  0.493331  1.000000  0.640314  0.115965  0.531620\n",
       "X4  0.590139  0.669197  0.445478  0.640314  1.000000  0.376883  0.574186\n",
       "X5  0.156439  0.187714  0.147233  0.115965  0.376883  1.000000  0.283343\n",
       "X6  0.155086  0.224580  0.343293  0.531620  0.574186  0.283343  1.000000"
      ]
     },
     "execution_count": 3,
     "metadata": {},
     "output_type": "execute_result"
    }
   ],
   "source": [
    "df.corr()"
   ]
  },
  {
   "cell_type": "markdown",
   "metadata": {
    "collapsed": false
   },
   "source": [
    "We notice that some of the variables (such as X1 and X3) are highly correlated.  This is something we might want to take into consideration later.  When 2 predictor variables are highly correlated this is called [multicollinearity](https://en.wikipedia.org/wiki/Multicollinearity) and it is something we want to watch out for as it can destabilize our model.  In the extreme case, when 2 predictors are perfectly correlated then there is absolutely nothing gained by making both variables part of our regression.\n",
    "\n",
    "Another thing we notice is that some variables are highly correlated with our target variable. We see that X1 and Y are highly correlated (r=0.825) whereas X6 and Y are less so (0.155). If we can only choose a few features to add to our model, we will probably prefer to choose those with the highest correlation. \n",
    "\n",
    "We can view the highest correlations by sorting them:"
   ]
  },
  {
   "cell_type": "code",
   "execution_count": 4,
   "metadata": {
    "collapsed": false
   },
   "outputs": [
    {
     "data": {
      "text/plain": [
       "Y     1.000000\n",
       "X1    0.825418\n",
       "X3    0.623678\n",
       "X4    0.590139\n",
       "X2    0.426117\n",
       "X5    0.156439\n",
       "X6    0.155086\n",
       "Name: Y, dtype: float64"
      ]
     },
     "execution_count": 4,
     "metadata": {},
     "output_type": "execute_result"
    }
   ],
   "source": [
    "df.corr()['Y'].sort_values(ascending=False)"
   ]
  },
  {
   "cell_type": "markdown",
   "metadata": {
    "collapsed": false
   },
   "source": [
    "Remember that we also need to make sure that there is a linear relationship between the feature and the target variable, or else we might need to perform a transformation. Let's look at the shape of the scatterplots here:"
   ]
  },
  {
   "cell_type": "code",
   "execution_count": 5,
   "metadata": {
    "collapsed": false
   },
   "outputs": [
    {
     "data": {
      "text/plain": [
       "<seaborn.axisgrid.PairGrid at 0x7fb14a5156a0>"
      ]
     },
     "execution_count": 5,
     "metadata": {},
     "output_type": "execute_result"
    },
    {
     "data": {
      "image/png": "[encoded data removed]",
      "text/plain": [
       "<Figure size 907.2x604.8 with 56 Axes>"
      ]
     },
     "metadata": {
      "needs_background": "light"
     },
     "output_type": "display_data"
    }
   ],
   "source": [
    "sns.pairplot(df, height = 1.2, aspect=1.5)"
   ]
  },
  {
   "cell_type": "markdown",
   "metadata": {
    "collapsed": false
   },
   "source": [
    "### Adjusted R-Squared\n",
    "Recall that $R^2$is the square of the correlation coefficient and represents the estimated percentage of the variance in our target variable ***Y*** that can be explained by our regression model. The only drawback of $R^2$ is that if new predictors (X) are added to our model, $R^2$ only increases or remains constant but it never decreases. We can not judge that by increasing complexity of our model, are we making it more accurate?\n",
    "\n",
    "That is why we use “Adjusted R-Square”.\n",
    "\n",
    "The Adjusted R-Square is the modified form of R-Square that has been adjusted for the number of predictors in the model. The adjusted R-Square only increases if the new term improves the model accuracy. ***Adjusted R<sup>2</sup>*** also penalizes for things such as large coefficients and extra variables to try and limit ***overfitting*** so it is often a better measure of model efficacy.  Here is the formula, where p is the number of predictors and N is the number of data points:\n",
    "\n",
    "$R^2  \\text{adjusted}=1-\\frac{(1-R^2)(N-1)}{N-p-1}$"
   ]
  },
  {
   "cell_type": "markdown",
   "metadata": {
    "collapsed": false
   },
   "source": [
    "Let's run a linear regression model:"
   ]
  },
  {
   "cell_type": "code",
   "execution_count": 6,
   "metadata": {
    "collapsed": false
   },
   "outputs": [
    {
     "name": "stdout",
     "output_type": "stream",
     "text": [
      "R^2: 0.7326019925311491\n",
      "Adjusted R^2: 0.6628459905827533\n"
     ]
    }
   ],
   "source": [
    "# Create an empty model\n",
    "model = LinearRegression()\n",
    "\n",
    "# Choose the predictor variables, here all but the first which is the response variable\n",
    "# This model is analogous to the Y ~ X1 + X2 + X3 + X4 + X5 + X6 model\n",
    "X = df.iloc[:, 1:]\n",
    "\n",
    "# Choose the response variable(s)\n",
    "y = df.iloc[:, 0]\n",
    "\n",
    "# Fit the model to the full dataset\n",
    "model.fit(X, y)\n",
    "\n",
    "# Print out the R^2 for the model against the full dataset\n",
    "print(f\"R^2: {model.score(X,y)}\")\n",
    "print(f\"Adjusted R^2: {1 - (1-model.score(X, y))*(len(y)-1)/(len(y)-X.shape[1]-1)}\")"
   ]
  },
  {
   "cell_type": "markdown",
   "metadata": {
    "collapsed": false
   },
   "source": [
    "Notice in the sorted list above that X5 and X6 had very low correlations with price (0.156439 and 0.155086). Let's see what happens to our adjusted R^2 if we drop those features and rerun our linear model. We'll find that our adjusted R^2 actually increases slightly!"
   ]
  },
  {
   "cell_type": "code",
   "execution_count": 7,
   "metadata": {
    "collapsed": false
   },
   "outputs": [
    {
     "name": "stdout",
     "output_type": "stream",
     "text": [
      "R^2: 0.7152237146514395\n",
      "Adjusted R^2: 0.6696595089956698\n"
     ]
    }
   ],
   "source": [
    "df = df.drop(columns = ['X5', 'X6'])\n",
    "\n",
    "# Create an empty model\n",
    "model = LinearRegression()\n",
    "\n",
    "# Choose the predictor variables, here all but the first which is the response variable\n",
    "# This model is analogous to the Y ~ X1 + X2 + X3 + X4 model\n",
    "X = df.iloc[:, 1:]\n",
    "\n",
    "# Choose the response variable(s)\n",
    "y = df.iloc[:, 0]\n",
    "\n",
    "# Fit the model to the full dataset\n",
    "model.fit(X, y)\n",
    "\n",
    "\n",
    "# Print out the R^2 for the model against the full dataset\n",
    "print(f\"R^2: {model.score(X,y)}\")\n",
    "print(f\"Adjusted R^2: {1 - (1-model.score(X, y))*(len(y)-1)/(len(y)-X.shape[1]-1)}\")"
   ]
  },
  {
   "cell_type": "markdown",
   "metadata": {
    "collapsed": false
   },
   "source": [
    "So we now have a linear model, but what exactly is it? Let's print out the coefficients:"
   ]
  },
  {
   "cell_type": "code",
   "execution_count": 8,
   "metadata": {
    "collapsed": false
   },
   "outputs": [
    {
     "name": "stdout",
     "output_type": "stream",
     "text": [
      "11.833542828302186\n",
      "[ 0.69114872 -0.10288557  0.24633061 -0.02551155]\n"
     ]
    }
   ],
   "source": [
    "# print out intercept\n",
    "print(model.intercept_)\n",
    "\n",
    "# print out other coefficients\n",
    "print(model.coef_)"
   ]
  },
  {
   "cell_type": "markdown",
   "metadata": {
    "collapsed": false
   },
   "source": [
    "This means that our model is given by:\n",
    "\n",
    "$\\hat{y} = 11.833 + 0.691x_1 - 0.103 x_2 + 0.246 x_3 - 0.026 x_4$"
   ]
  },
  {
   "cell_type": "markdown",
   "metadata": {
    "collapsed": false
   },
   "source": [
    "What would we predict y to be if $x_1=x_2=x_3=x_4=1$? Approximately 12.6."
   ]
  },
  {
   "cell_type": "code",
   "execution_count": 9,
   "metadata": {
    "collapsed": false
   },
   "outputs": [
    {
     "name": "stderr",
     "output_type": "stream",
     "text": [
      "/opt/anaconda3/envs/pyc/lib/python3.9/site-packages/sklearn/base.py:450: UserWarning: X does not have valid feature names, but LinearRegression was fitted with feature names\n",
      "  warnings.warn(\n"
     ]
    },
    {
     "data": {
      "text/plain": [
       "array([12.64262504])"
      ]
     },
     "execution_count": 9,
     "metadata": {},
     "output_type": "execute_result"
    }
   ],
   "source": [
    "model.predict([[1,1,1,1]])"
   ]
  },
  {
   "cell_type": "code",
   "execution_count": 10,
   "metadata": {
    "collapsed": false
   },
   "outputs": [
    {
     "data": {
      "text/plain": [
       "array([12.64262504, 13.7085015 ])"
      ]
     },
     "execution_count": 10,
     "metadata": {},
     "output_type": "execute_result"
    }
   ],
   "source": [
    "# if you get an warning above about missing feature names\n",
    "# this is because the model was built with a DataFrame instead of just values\n",
    "# so you can pass a DataFrame with feature names to get your predictions also\n",
    "test = pd.DataFrame({'X1':[1,2], 'X2':[1,0], 'X3':[1,2], 'X4':[1,0]})\n",
    "model.predict(test)"
   ]
  },
  {
   "cell_type": "code",
   "execution_count": null,
   "metadata": {
    "collapsed": false
   },
   "outputs": [],
   "source": []
  }
 ],
 "metadata": {
  "kernelspec": {
   "display_name": "Python 3 (system-wide)",
   "language": "python",
   "metadata": {
    "cocalc": {
     "description": "Python 3 programming language",
     "priority": 100,
     "url": "https://www.python.org/"
    }
   },
   "name": "python3",
   "resource_dir": "/ext/jupyter/kernels/python3"
  },
  "language_info": {
   "codemirror_mode": {
    "name": "ipython",
    "version": 3
   },
   "file_extension": ".py",
   "mimetype": "text/x-python",
   "name": "python",
   "nbconvert_exporter": "python",
   "pygments_lexer": "ipython3",
   "version": "3.9.7"
  }
 },
 "nbformat": 4,
 "nbformat_minor": 4
}
