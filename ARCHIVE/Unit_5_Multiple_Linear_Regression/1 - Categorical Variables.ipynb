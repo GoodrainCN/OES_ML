{
 "cells": [
  {
   "cell_type": "markdown",
   "metadata": {},
   "source": [
    "Run the following code to import the required packages:"
   ]
  },
  {
   "cell_type": "code",
   "execution_count": null,
   "metadata": {},
   "outputs": [],
   "source": [
    "import pandas as pd\n",
    "import numpy as np\n",
    "import seaborn as sns\n",
    "from sklearn.linear_model import LinearRegression\n",
    "from sklearn.linear_model import Ridge\n",
    "from sklearn.ensemble import GradientBoostingRegressor\n",
    "import matplotlib.pyplot as plt\n",
    "%matplotlib inline"
   ]
  },
  {
   "cell_type": "markdown",
   "metadata": {},
   "source": [
    "## Multiple Linear Regression with Categorical Explanatory Variables\n",
    "\n",
    "So far, we've only considered numerical explanatory variables. What if we also consider categorical variables, like player position? Let's analyze the following fantasy football dataset created by merging ESPN projections located here:\n",
    "\n",
    "https://www.espn.com/fantasy/football/story/_/page/17RanksPreseason200PPR/2017-fantasy-football-ppr-rankings-top-200\n",
    "\n",
    "with how players actually performed that season:"
   ]
  },
  {
   "cell_type": "code",
   "execution_count": null,
   "metadata": {},
   "outputs": [],
   "source": [
    "df = pd.read_csv('data/football.csv', index_col=0)\n",
    "df.head()"
   ]
  },
  {
   "cell_type": "markdown",
   "metadata": {},
   "source": [
    "We can reduce our dataset to purely the numerical columns:"
   ]
  },
  {
   "cell_type": "code",
   "execution_count": null,
   "metadata": {},
   "outputs": [],
   "source": [
    "df = df.drop(columns=['player', 'positions'])\n",
    "df.head()"
   ]
  },
  {
   "cell_type": "markdown",
   "metadata": {},
   "source": [
    "Let's view a scatterplot of the data:"
   ]
  },
  {
   "cell_type": "code",
   "execution_count": null,
   "metadata": {},
   "outputs": [],
   "source": [
    "x = df['2017 projected ranking']\n",
    "y = df['2017 actual points scored']\n",
    "fit = np.polyfit(x, y,1)\n",
    "fit_fn = np.poly1d(fit) \n",
    "plt.plot(x, y,'.', x, fit_fn(x))\n",
    "plt.xlabel('projected ranking')\n",
    "plt.ylabel('actual points scored')"
   ]
  },
  {
   "cell_type": "markdown",
   "metadata": {},
   "source": [
    "If we do that and run a linear regression, we get an R-squared value of only 16%:"
   ]
  },
  {
   "cell_type": "code",
   "execution_count": null,
   "metadata": {},
   "outputs": [],
   "source": [
    "X = df.drop(columns = ['2017 actual points scored'])\n",
    "y = df['2017 actual points scored']\n",
    "\n",
    "model = LinearRegression()\n",
    "model.fit(X, y)\n",
    "print('R-squared', model.score(X,y))"
   ]
  },
  {
   "cell_type": "markdown",
   "metadata": {},
   "source": [
    "Let's see if we can do better by using categorical variables, too. Our goal will be to use ESPN rankings (numerical) AND player position (categorical) to predict their fantasy points.\n",
    "\n",
    "Step 1: Create a new dataframe from the original dataframe that includes just your predictor variables, the positions and ranking columns. "
   ]
  },
  {
   "cell_type": "code",
   "execution_count": null,
   "metadata": {},
   "outputs": [],
   "source": [
    "df = pd.read_csv('data/football.csv', index_col=0)\n",
    "input_data = df[['2017 projected ranking','positions']]\n",
    "input_data.head()"
   ]
  },
  {
   "cell_type": "markdown",
   "metadata": {},
   "source": [
    "Step 2: Create a one-hot matrix using pd.dummy that turns the categorical column, position, into numerical columns for each position:"
   ]
  },
  {
   "cell_type": "code",
   "execution_count": null,
   "metadata": {},
   "outputs": [],
   "source": [
    "one_hot = pd.get_dummies(df['positions'])\n",
    "one_hot.head()"
   ]
  },
  {
   "cell_type": "markdown",
   "metadata": {},
   "source": [
    "Step 3: We can now merge the two dataframe by first dropping the position labels column, since now each position is treated numerically:"
   ]
  },
  {
   "cell_type": "code",
   "execution_count": null,
   "metadata": {},
   "outputs": [],
   "source": [
    "input_data = input_data.drop('positions', axis = 1)\n",
    "input_data = input_data.join(one_hot)\n",
    "input_data.head()"
   ]
  },
  {
   "cell_type": "markdown",
   "metadata": {},
   "source": [
    "We are now ready to create a linear regression model that predicts actual points scored:"
   ]
  },
  {
   "cell_type": "code",
   "execution_count": null,
   "metadata": {},
   "outputs": [],
   "source": [
    "X = input_data\n",
    "y = df['2017 actual points scored']\n",
    "\n",
    "model = LinearRegression()\n",
    "model.fit(X, y)\n",
    "print('R-squared', model.score(X,y))"
   ]
  },
  {
   "cell_type": "markdown",
   "metadata": {},
   "source": [
    "Wow! Our R-Squared doubled when we added in position."
   ]
  },
  {
   "cell_type": "markdown",
   "metadata": {},
   "source": [
    "What exactly is our model?"
   ]
  },
  {
   "cell_type": "code",
   "execution_count": null,
   "metadata": {},
   "outputs": [],
   "source": [
    "print(model.intercept_)\n",
    "print(model.coef_)"
   ]
  },
  {
   "cell_type": "markdown",
   "metadata": {},
   "source": [
    "This means that:\n",
    "\n",
    "$\\text{predicted actual points scored} = 232.9 - 0.61 (\\text{projected ranking})+ 63.40 (QB) - 47.91 (RB) - 6.13 (TE) - 9.34 (WR)$"
   ]
  },
  {
   "cell_type": "markdown",
   "metadata": {},
   "source": [
    "This makes sense since being a QB should indicate that you'll score more points and having a higher ranking (meaning ranking #200 instead of #1) should actually mean that you score less points."
   ]
  },
  {
   "cell_type": "markdown",
   "metadata": {},
   "source": [
    "Let's visualize what is going on with this multiple linear regression by creating the following plot below:"
   ]
  },
  {
   "cell_type": "code",
   "execution_count": null,
   "metadata": {},
   "outputs": [],
   "source": [
    "quarterbacks = df[df['positions'] == 'QB']\n",
    "runningbacks = df[df['positions'] == 'RB']\n",
    "receivers = df[df['positions'] == 'WR']\n",
    "tightends = df[df['positions'] == 'TE']\n",
    "\n",
    "fig, ax = plt.subplots(figsize=(7,7))\n",
    "\n",
    "ax.scatter(quarterbacks['2017 projected ranking'], quarterbacks['2017 actual points scored'],  color='blue', label='qb')\n",
    "ax.scatter(runningbacks['2017 projected ranking'], runningbacks['2017 actual points scored'],  color='red', label='rb')\n",
    "ax.scatter(receivers['2017 projected ranking'], receivers['2017 actual points scored'],  color='yellow', label = 'wr')\n",
    "ax.scatter(tightends['2017 projected ranking'], tightends['2017 actual points scored'],  color='green', label = 'te')\n",
    "\n",
    "ax.plot(X['2017 projected ranking'].values, model.predict(X), 'k.', label = 'predictions')\n",
    "ax.set_xlabel('ESPN projected pre-season player ranking 2017')\n",
    "ax.set_ylabel('Total ESPN Fantasy Points that player scored in 2017')\n",
    "ax.set_title('Position matters!')\n",
    "ax.legend(loc='best');"
   ]
  },
  {
   "cell_type": "markdown",
   "metadata": {},
   "source": [
    "If you look closely, you should actually see four black lines in the plot above, corresponding to a different regression line for each position."
   ]
  },
  {
   "cell_type": "markdown",
   "metadata": {},
   "source": [
    "Finally, we can analyze who did best and who did worst.\n",
    "\n",
    "We can create another column in the results dataframe called \"predicted points\" that lists the predicted points from the line of best fit for each player and then use that column to calculate the residuals. We can then sort the dataframe by residuals from lowest to highest to see the most overrated players."
   ]
  },
  {
   "cell_type": "code",
   "execution_count": null,
   "metadata": {},
   "outputs": [],
   "source": [
    "df = pd.read_csv('data/football.csv', index_col=0)\n",
    "df['predicted points'] = fit_fn(df['2017 projected ranking'])\n",
    "df['residual'] = df['2017 actual points scored'] - df['predicted points']\n",
    "df.sort_values(by = 'residual', ascending = True).head()"
   ]
  },
  {
   "cell_type": "markdown",
   "metadata": {},
   "source": [
    "It makes sense that David Johnson was the most overrated player that year, as he was ranked #1 but unfortunately got injured early in the season. "
   ]
  },
  {
   "cell_type": "code",
   "execution_count": null,
   "metadata": {},
   "outputs": [],
   "source": [
    "# how could you see the most UNDER rated players from 2017?\n",
    "\n",
    "df.sort_values(by = 'residual', ascending = False).head()"
   ]
  },
  {
   "cell_type": "code",
   "execution_count": null,
   "metadata": {},
   "outputs": [],
   "source": [
    "# if you're a player of Fantasy Football ... creating a model that could select the best team might\n",
    "# be an interesting project \n"
   ]
  }
 ],
 "metadata": {
  "kernelspec": {
   "display_name": "Python 3 (ipykernel)",
   "language": "python",
   "name": "python3"
  },
  "language_info": {
   "codemirror_mode": {
    "name": "ipython",
    "version": 3
   },
   "file_extension": ".py",
   "mimetype": "text/x-python",
   "name": "python",
   "nbconvert_exporter": "python",
   "pygments_lexer": "ipython3",
   "version": "3.9.7"
  }
 },
 "nbformat": 4,
 "nbformat_minor": 2
}
