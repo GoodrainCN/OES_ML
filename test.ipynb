{
 "cells": [
  {
   "cell_type": "code",
   "execution_count": null,
   "metadata": {},
   "outputs": [],
   "source": [
    "print(\"\\033[32m 字体颜色：深黄色\\033[0m\")"
   ]
  },
  {
   "cell_type": "code",
   "execution_count": 6,
   "metadata": {},
   "outputs": [],
   "source": [
    "zhuan = '\\033[31m'+'赚'\n",
    "kui = \"\\033[32m 亏\\033[0m\"\n",
    "\n",
    "def upgrade():\n",
    "    import random\n",
    "    option = ['zhuan', 'kui']\n",
    "    count = 0\n",
    "    while True:\n",
    "        temp = random.choices(option, weights = [0.1, 0.9]) #people = amount of customers\n",
    "        count += 1\n",
    "        if temp[0] == 'zhuan':\n",
    "            return count\n",
    "        # elif temp[0] == 'kui':\n",
    "        #     print(kui)"
   ]
  },
  {
   "cell_type": "code",
   "execution_count": null,
   "metadata": {},
   "outputs": [],
   "source": [
    "def upgrade():\n",
    "    import random\n",
    "    option = ['zhuan', 'kui']\n",
    "    count = 0\n",
    "    while count<10:\n",
    "        temp = random.choices(option, weights = [0.1, 0.9]) #people = amount of customers\n",
    "        count += 1\n",
    "        if temp[0] == 'zhuan':\n",
    "            print(zhuan)\n",
    "        elif temp[0] == 'kui':\n",
    "            print(kui)"
   ]
  },
  {
   "cell_type": "code",
   "execution_count": null,
   "metadata": {},
   "outputs": [],
   "source": [
    "upgrade()"
   ]
  },
  {
   "cell_type": "code",
   "execution_count": 7,
   "metadata": {},
   "outputs": [
    {
     "name": "stdout",
     "output_type": "stream",
     "text": [
      "10.006720067200671\n"
     ]
    }
   ],
   "source": [
    "temp = []\n",
    "for i in range(99999):\n",
    "    result = upgrade()\n",
    "    #print(result)\n",
    "    temp.append(result)\n",
    "#print(temp)\n",
    "print(sum(temp)/len(temp))"
   ]
  }
 ],
 "metadata": {
  "interpreter": {
   "hash": "fd480433b0168f0b96e5ec847e914a92fdec64b0a6a89ef8313bf2e63f32d212"
  },
  "kernelspec": {
   "display_name": "Python 3.9.7 ('pyc')",
   "language": "python",
   "name": "python3"
  },
  "language_info": {
   "codemirror_mode": {
    "name": "ipython",
    "version": 3
   },
   "file_extension": ".py",
   "mimetype": "text/x-python",
   "name": "python",
   "nbconvert_exporter": "python",
   "pygments_lexer": "ipython3",
   "version": "3.9.7"
  },
  "orig_nbformat": 4
 },
 "nbformat": 4,
 "nbformat_minor": 2
}
